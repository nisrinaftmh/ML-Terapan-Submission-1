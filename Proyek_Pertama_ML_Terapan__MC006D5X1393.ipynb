{
  "nbformat": 4,
  "nbformat_minor": 0,
  "metadata": {
    "colab": {
      "provenance": [],
      "toc_visible": true
    },
    "kernelspec": {
      "name": "python3",
      "display_name": "Python 3"
    },
    "language_info": {
      "name": "python"
    }
  },
  "cells": [
    {
      "cell_type": "markdown",
      "source": [
        "# Predictive Analysis : Prediksi Penyakit Jantung\n",
        "\n",
        "Nama : Nisrina Fatimah Parisya\n",
        "\n",
        "\n",
        "ID Cohort :MC006D5X1393"
      ],
      "metadata": {
        "id": "0nfD90I0ANZn"
      }
    },
    {
      "cell_type": "markdown",
      "source": [
        "## Data  Loading"
      ],
      "metadata": {
        "id": "WTlTpNXqLib0"
      }
    },
    {
      "cell_type": "markdown",
      "source": [
        "Pada tahapan pertama, saya mengambil dataset dari website Kaggle dengan nama ***common heart disease data 4 hospital*** dan menggunakan library pandas serta menggunakan fungsi` read_csv()` untuk mengunggah dataset yang akan di proses.\n",
        "\n",
        "Dataset ini terdiri dari 920 baris dan 14 kolom dimana 13 kolom tersebut memiliki tipe data float , 1 kolom integer dan 1 kolom kategorikal."
      ],
      "metadata": {
        "id": "tYGtcRMHCyb9"
      }
    },
    {
      "cell_type": "code",
      "execution_count": 1,
      "metadata": {
        "colab": {
          "base_uri": "https://localhost:8080/"
        },
        "id": "QEEu02XWGul1",
        "outputId": "3b8948db-907b-495d-a1ab-575780587d39"
      },
      "outputs": [
        {
          "output_type": "stream",
          "name": "stdout",
          "text": [
            "Path to dataset files: /kaggle/input/common-heart-disease-data-4-hospitals\n"
          ]
        }
      ],
      "source": [
        "import kagglehub\n",
        "\n",
        "# Download latest version\n",
        "path = kagglehub.dataset_download(\"denysskyrda/common-heart-disease-data-4-hospitals\")\n",
        "\n",
        "print(\"Path to dataset files:\", path)"
      ]
    },
    {
      "cell_type": "code",
      "source": [
        "import pandas as pd\n",
        "import matplotlib.pyplot as plt\n",
        "import seaborn as sns\n",
        "from sklearn.model_selection import train_test_split\n",
        "from sklearn.metrics import accuracy_score, classification_report, confusion_matrix, f1_score"
      ],
      "metadata": {
        "id": "8KoZvgpqMC5d"
      },
      "execution_count": 2,
      "outputs": []
    },
    {
      "cell_type": "code",
      "source": [
        "df = pd.read_csv(\"/kaggle/input/common-heart-disease-data-4-hospitals/heart_disease.csv\")\n",
        "df"
      ],
      "metadata": {
        "colab": {
          "base_uri": "https://localhost:8080/",
          "height": 444
        },
        "id": "KRXpQPgqLmFH",
        "outputId": "3836e2f2-18e7-4902-bbe9-170427415a7e"
      },
      "execution_count": 3,
      "outputs": [
        {
          "output_type": "execute_result",
          "data": {
            "text/plain": [
              "      age  sex   cp  trestbps   chol  fbs  restecg  thalach  exang  oldpeak  \\\n",
              "0    63.0  1.0  1.0     145.0  233.0  1.0      2.0    150.0    0.0      2.3   \n",
              "1    67.0  1.0  4.0     160.0  286.0  0.0      2.0    108.0    1.0      1.5   \n",
              "2    67.0  1.0  4.0     120.0  229.0  0.0      2.0    129.0    1.0      2.6   \n",
              "3    37.0  1.0  3.0     130.0  250.0  0.0      0.0    187.0    0.0      3.5   \n",
              "4    41.0  0.0  2.0     130.0  204.0  0.0      2.0    172.0    0.0      1.4   \n",
              "..    ...  ...  ...       ...    ...  ...      ...      ...    ...      ...   \n",
              "915  70.0  1.0  4.0     115.0    0.0  0.0      1.0     92.0    1.0      0.0   \n",
              "916  70.0  1.0  4.0     140.0    0.0  1.0      0.0    157.0    1.0      2.0   \n",
              "917  72.0  1.0  3.0     160.0    0.0  0.2      2.0    114.0    0.0      1.6   \n",
              "918  73.0  0.0  3.0     160.0    0.0  0.0      1.0    121.0    0.0      0.0   \n",
              "919  74.0  1.0  2.0     145.0    0.0  0.2      1.0    123.0    0.0      1.3   \n",
              "\n",
              "     slope   ca  thal  target       source  \n",
              "0      3.0  0.0   6.0       0    cleveland  \n",
              "1      2.0  3.0   3.0       1    cleveland  \n",
              "2      2.0  2.0   7.0       1    cleveland  \n",
              "3      3.0  0.0   3.0       0    cleveland  \n",
              "4      1.0  0.0   3.0       0    cleveland  \n",
              "..     ...  ...   ...     ...          ...  \n",
              "915    2.0  1.6   7.0       1  switzerland  \n",
              "916    2.0  0.8   7.0       1  switzerland  \n",
              "917    2.0  2.0   6.2       0  switzerland  \n",
              "918    1.0  1.0   3.0       1  switzerland  \n",
              "919    1.0  1.0   5.2       1  switzerland  \n",
              "\n",
              "[920 rows x 15 columns]"
            ],
            "text/html": [
              "\n",
              "  <div id=\"df-4cfb5f56-ca5d-4e0b-9cd1-390ed4ee9f56\" class=\"colab-df-container\">\n",
              "    <div>\n",
              "<style scoped>\n",
              "    .dataframe tbody tr th:only-of-type {\n",
              "        vertical-align: middle;\n",
              "    }\n",
              "\n",
              "    .dataframe tbody tr th {\n",
              "        vertical-align: top;\n",
              "    }\n",
              "\n",
              "    .dataframe thead th {\n",
              "        text-align: right;\n",
              "    }\n",
              "</style>\n",
              "<table border=\"1\" class=\"dataframe\">\n",
              "  <thead>\n",
              "    <tr style=\"text-align: right;\">\n",
              "      <th></th>\n",
              "      <th>age</th>\n",
              "      <th>sex</th>\n",
              "      <th>cp</th>\n",
              "      <th>trestbps</th>\n",
              "      <th>chol</th>\n",
              "      <th>fbs</th>\n",
              "      <th>restecg</th>\n",
              "      <th>thalach</th>\n",
              "      <th>exang</th>\n",
              "      <th>oldpeak</th>\n",
              "      <th>slope</th>\n",
              "      <th>ca</th>\n",
              "      <th>thal</th>\n",
              "      <th>target</th>\n",
              "      <th>source</th>\n",
              "    </tr>\n",
              "  </thead>\n",
              "  <tbody>\n",
              "    <tr>\n",
              "      <th>0</th>\n",
              "      <td>63.0</td>\n",
              "      <td>1.0</td>\n",
              "      <td>1.0</td>\n",
              "      <td>145.0</td>\n",
              "      <td>233.0</td>\n",
              "      <td>1.0</td>\n",
              "      <td>2.0</td>\n",
              "      <td>150.0</td>\n",
              "      <td>0.0</td>\n",
              "      <td>2.3</td>\n",
              "      <td>3.0</td>\n",
              "      <td>0.0</td>\n",
              "      <td>6.0</td>\n",
              "      <td>0</td>\n",
              "      <td>cleveland</td>\n",
              "    </tr>\n",
              "    <tr>\n",
              "      <th>1</th>\n",
              "      <td>67.0</td>\n",
              "      <td>1.0</td>\n",
              "      <td>4.0</td>\n",
              "      <td>160.0</td>\n",
              "      <td>286.0</td>\n",
              "      <td>0.0</td>\n",
              "      <td>2.0</td>\n",
              "      <td>108.0</td>\n",
              "      <td>1.0</td>\n",
              "      <td>1.5</td>\n",
              "      <td>2.0</td>\n",
              "      <td>3.0</td>\n",
              "      <td>3.0</td>\n",
              "      <td>1</td>\n",
              "      <td>cleveland</td>\n",
              "    </tr>\n",
              "    <tr>\n",
              "      <th>2</th>\n",
              "      <td>67.0</td>\n",
              "      <td>1.0</td>\n",
              "      <td>4.0</td>\n",
              "      <td>120.0</td>\n",
              "      <td>229.0</td>\n",
              "      <td>0.0</td>\n",
              "      <td>2.0</td>\n",
              "      <td>129.0</td>\n",
              "      <td>1.0</td>\n",
              "      <td>2.6</td>\n",
              "      <td>2.0</td>\n",
              "      <td>2.0</td>\n",
              "      <td>7.0</td>\n",
              "      <td>1</td>\n",
              "      <td>cleveland</td>\n",
              "    </tr>\n",
              "    <tr>\n",
              "      <th>3</th>\n",
              "      <td>37.0</td>\n",
              "      <td>1.0</td>\n",
              "      <td>3.0</td>\n",
              "      <td>130.0</td>\n",
              "      <td>250.0</td>\n",
              "      <td>0.0</td>\n",
              "      <td>0.0</td>\n",
              "      <td>187.0</td>\n",
              "      <td>0.0</td>\n",
              "      <td>3.5</td>\n",
              "      <td>3.0</td>\n",
              "      <td>0.0</td>\n",
              "      <td>3.0</td>\n",
              "      <td>0</td>\n",
              "      <td>cleveland</td>\n",
              "    </tr>\n",
              "    <tr>\n",
              "      <th>4</th>\n",
              "      <td>41.0</td>\n",
              "      <td>0.0</td>\n",
              "      <td>2.0</td>\n",
              "      <td>130.0</td>\n",
              "      <td>204.0</td>\n",
              "      <td>0.0</td>\n",
              "      <td>2.0</td>\n",
              "      <td>172.0</td>\n",
              "      <td>0.0</td>\n",
              "      <td>1.4</td>\n",
              "      <td>1.0</td>\n",
              "      <td>0.0</td>\n",
              "      <td>3.0</td>\n",
              "      <td>0</td>\n",
              "      <td>cleveland</td>\n",
              "    </tr>\n",
              "    <tr>\n",
              "      <th>...</th>\n",
              "      <td>...</td>\n",
              "      <td>...</td>\n",
              "      <td>...</td>\n",
              "      <td>...</td>\n",
              "      <td>...</td>\n",
              "      <td>...</td>\n",
              "      <td>...</td>\n",
              "      <td>...</td>\n",
              "      <td>...</td>\n",
              "      <td>...</td>\n",
              "      <td>...</td>\n",
              "      <td>...</td>\n",
              "      <td>...</td>\n",
              "      <td>...</td>\n",
              "      <td>...</td>\n",
              "    </tr>\n",
              "    <tr>\n",
              "      <th>915</th>\n",
              "      <td>70.0</td>\n",
              "      <td>1.0</td>\n",
              "      <td>4.0</td>\n",
              "      <td>115.0</td>\n",
              "      <td>0.0</td>\n",
              "      <td>0.0</td>\n",
              "      <td>1.0</td>\n",
              "      <td>92.0</td>\n",
              "      <td>1.0</td>\n",
              "      <td>0.0</td>\n",
              "      <td>2.0</td>\n",
              "      <td>1.6</td>\n",
              "      <td>7.0</td>\n",
              "      <td>1</td>\n",
              "      <td>switzerland</td>\n",
              "    </tr>\n",
              "    <tr>\n",
              "      <th>916</th>\n",
              "      <td>70.0</td>\n",
              "      <td>1.0</td>\n",
              "      <td>4.0</td>\n",
              "      <td>140.0</td>\n",
              "      <td>0.0</td>\n",
              "      <td>1.0</td>\n",
              "      <td>0.0</td>\n",
              "      <td>157.0</td>\n",
              "      <td>1.0</td>\n",
              "      <td>2.0</td>\n",
              "      <td>2.0</td>\n",
              "      <td>0.8</td>\n",
              "      <td>7.0</td>\n",
              "      <td>1</td>\n",
              "      <td>switzerland</td>\n",
              "    </tr>\n",
              "    <tr>\n",
              "      <th>917</th>\n",
              "      <td>72.0</td>\n",
              "      <td>1.0</td>\n",
              "      <td>3.0</td>\n",
              "      <td>160.0</td>\n",
              "      <td>0.0</td>\n",
              "      <td>0.2</td>\n",
              "      <td>2.0</td>\n",
              "      <td>114.0</td>\n",
              "      <td>0.0</td>\n",
              "      <td>1.6</td>\n",
              "      <td>2.0</td>\n",
              "      <td>2.0</td>\n",
              "      <td>6.2</td>\n",
              "      <td>0</td>\n",
              "      <td>switzerland</td>\n",
              "    </tr>\n",
              "    <tr>\n",
              "      <th>918</th>\n",
              "      <td>73.0</td>\n",
              "      <td>0.0</td>\n",
              "      <td>3.0</td>\n",
              "      <td>160.0</td>\n",
              "      <td>0.0</td>\n",
              "      <td>0.0</td>\n",
              "      <td>1.0</td>\n",
              "      <td>121.0</td>\n",
              "      <td>0.0</td>\n",
              "      <td>0.0</td>\n",
              "      <td>1.0</td>\n",
              "      <td>1.0</td>\n",
              "      <td>3.0</td>\n",
              "      <td>1</td>\n",
              "      <td>switzerland</td>\n",
              "    </tr>\n",
              "    <tr>\n",
              "      <th>919</th>\n",
              "      <td>74.0</td>\n",
              "      <td>1.0</td>\n",
              "      <td>2.0</td>\n",
              "      <td>145.0</td>\n",
              "      <td>0.0</td>\n",
              "      <td>0.2</td>\n",
              "      <td>1.0</td>\n",
              "      <td>123.0</td>\n",
              "      <td>0.0</td>\n",
              "      <td>1.3</td>\n",
              "      <td>1.0</td>\n",
              "      <td>1.0</td>\n",
              "      <td>5.2</td>\n",
              "      <td>1</td>\n",
              "      <td>switzerland</td>\n",
              "    </tr>\n",
              "  </tbody>\n",
              "</table>\n",
              "<p>920 rows × 15 columns</p>\n",
              "</div>\n",
              "    <div class=\"colab-df-buttons\">\n",
              "\n",
              "  <div class=\"colab-df-container\">\n",
              "    <button class=\"colab-df-convert\" onclick=\"convertToInteractive('df-4cfb5f56-ca5d-4e0b-9cd1-390ed4ee9f56')\"\n",
              "            title=\"Convert this dataframe to an interactive table.\"\n",
              "            style=\"display:none;\">\n",
              "\n",
              "  <svg xmlns=\"http://www.w3.org/2000/svg\" height=\"24px\" viewBox=\"0 -960 960 960\">\n",
              "    <path d=\"M120-120v-720h720v720H120Zm60-500h600v-160H180v160Zm220 220h160v-160H400v160Zm0 220h160v-160H400v160ZM180-400h160v-160H180v160Zm440 0h160v-160H620v160ZM180-180h160v-160H180v160Zm440 0h160v-160H620v160Z\"/>\n",
              "  </svg>\n",
              "    </button>\n",
              "\n",
              "  <style>\n",
              "    .colab-df-container {\n",
              "      display:flex;\n",
              "      gap: 12px;\n",
              "    }\n",
              "\n",
              "    .colab-df-convert {\n",
              "      background-color: #E8F0FE;\n",
              "      border: none;\n",
              "      border-radius: 50%;\n",
              "      cursor: pointer;\n",
              "      display: none;\n",
              "      fill: #1967D2;\n",
              "      height: 32px;\n",
              "      padding: 0 0 0 0;\n",
              "      width: 32px;\n",
              "    }\n",
              "\n",
              "    .colab-df-convert:hover {\n",
              "      background-color: #E2EBFA;\n",
              "      box-shadow: 0px 1px 2px rgba(60, 64, 67, 0.3), 0px 1px 3px 1px rgba(60, 64, 67, 0.15);\n",
              "      fill: #174EA6;\n",
              "    }\n",
              "\n",
              "    .colab-df-buttons div {\n",
              "      margin-bottom: 4px;\n",
              "    }\n",
              "\n",
              "    [theme=dark] .colab-df-convert {\n",
              "      background-color: #3B4455;\n",
              "      fill: #D2E3FC;\n",
              "    }\n",
              "\n",
              "    [theme=dark] .colab-df-convert:hover {\n",
              "      background-color: #434B5C;\n",
              "      box-shadow: 0px 1px 3px 1px rgba(0, 0, 0, 0.15);\n",
              "      filter: drop-shadow(0px 1px 2px rgba(0, 0, 0, 0.3));\n",
              "      fill: #FFFFFF;\n",
              "    }\n",
              "  </style>\n",
              "\n",
              "    <script>\n",
              "      const buttonEl =\n",
              "        document.querySelector('#df-4cfb5f56-ca5d-4e0b-9cd1-390ed4ee9f56 button.colab-df-convert');\n",
              "      buttonEl.style.display =\n",
              "        google.colab.kernel.accessAllowed ? 'block' : 'none';\n",
              "\n",
              "      async function convertToInteractive(key) {\n",
              "        const element = document.querySelector('#df-4cfb5f56-ca5d-4e0b-9cd1-390ed4ee9f56');\n",
              "        const dataTable =\n",
              "          await google.colab.kernel.invokeFunction('convertToInteractive',\n",
              "                                                    [key], {});\n",
              "        if (!dataTable) return;\n",
              "\n",
              "        const docLinkHtml = 'Like what you see? Visit the ' +\n",
              "          '<a target=\"_blank\" href=https://colab.research.google.com/notebooks/data_table.ipynb>data table notebook</a>'\n",
              "          + ' to learn more about interactive tables.';\n",
              "        element.innerHTML = '';\n",
              "        dataTable['output_type'] = 'display_data';\n",
              "        await google.colab.output.renderOutput(dataTable, element);\n",
              "        const docLink = document.createElement('div');\n",
              "        docLink.innerHTML = docLinkHtml;\n",
              "        element.appendChild(docLink);\n",
              "      }\n",
              "    </script>\n",
              "  </div>\n",
              "\n",
              "\n",
              "    <div id=\"df-baf46c4c-12cd-4027-8438-616195fa47ab\">\n",
              "      <button class=\"colab-df-quickchart\" onclick=\"quickchart('df-baf46c4c-12cd-4027-8438-616195fa47ab')\"\n",
              "                title=\"Suggest charts\"\n",
              "                style=\"display:none;\">\n",
              "\n",
              "<svg xmlns=\"http://www.w3.org/2000/svg\" height=\"24px\"viewBox=\"0 0 24 24\"\n",
              "     width=\"24px\">\n",
              "    <g>\n",
              "        <path d=\"M19 3H5c-1.1 0-2 .9-2 2v14c0 1.1.9 2 2 2h14c1.1 0 2-.9 2-2V5c0-1.1-.9-2-2-2zM9 17H7v-7h2v7zm4 0h-2V7h2v10zm4 0h-2v-4h2v4z\"/>\n",
              "    </g>\n",
              "</svg>\n",
              "      </button>\n",
              "\n",
              "<style>\n",
              "  .colab-df-quickchart {\n",
              "      --bg-color: #E8F0FE;\n",
              "      --fill-color: #1967D2;\n",
              "      --hover-bg-color: #E2EBFA;\n",
              "      --hover-fill-color: #174EA6;\n",
              "      --disabled-fill-color: #AAA;\n",
              "      --disabled-bg-color: #DDD;\n",
              "  }\n",
              "\n",
              "  [theme=dark] .colab-df-quickchart {\n",
              "      --bg-color: #3B4455;\n",
              "      --fill-color: #D2E3FC;\n",
              "      --hover-bg-color: #434B5C;\n",
              "      --hover-fill-color: #FFFFFF;\n",
              "      --disabled-bg-color: #3B4455;\n",
              "      --disabled-fill-color: #666;\n",
              "  }\n",
              "\n",
              "  .colab-df-quickchart {\n",
              "    background-color: var(--bg-color);\n",
              "    border: none;\n",
              "    border-radius: 50%;\n",
              "    cursor: pointer;\n",
              "    display: none;\n",
              "    fill: var(--fill-color);\n",
              "    height: 32px;\n",
              "    padding: 0;\n",
              "    width: 32px;\n",
              "  }\n",
              "\n",
              "  .colab-df-quickchart:hover {\n",
              "    background-color: var(--hover-bg-color);\n",
              "    box-shadow: 0 1px 2px rgba(60, 64, 67, 0.3), 0 1px 3px 1px rgba(60, 64, 67, 0.15);\n",
              "    fill: var(--button-hover-fill-color);\n",
              "  }\n",
              "\n",
              "  .colab-df-quickchart-complete:disabled,\n",
              "  .colab-df-quickchart-complete:disabled:hover {\n",
              "    background-color: var(--disabled-bg-color);\n",
              "    fill: var(--disabled-fill-color);\n",
              "    box-shadow: none;\n",
              "  }\n",
              "\n",
              "  .colab-df-spinner {\n",
              "    border: 2px solid var(--fill-color);\n",
              "    border-color: transparent;\n",
              "    border-bottom-color: var(--fill-color);\n",
              "    animation:\n",
              "      spin 1s steps(1) infinite;\n",
              "  }\n",
              "\n",
              "  @keyframes spin {\n",
              "    0% {\n",
              "      border-color: transparent;\n",
              "      border-bottom-color: var(--fill-color);\n",
              "      border-left-color: var(--fill-color);\n",
              "    }\n",
              "    20% {\n",
              "      border-color: transparent;\n",
              "      border-left-color: var(--fill-color);\n",
              "      border-top-color: var(--fill-color);\n",
              "    }\n",
              "    30% {\n",
              "      border-color: transparent;\n",
              "      border-left-color: var(--fill-color);\n",
              "      border-top-color: var(--fill-color);\n",
              "      border-right-color: var(--fill-color);\n",
              "    }\n",
              "    40% {\n",
              "      border-color: transparent;\n",
              "      border-right-color: var(--fill-color);\n",
              "      border-top-color: var(--fill-color);\n",
              "    }\n",
              "    60% {\n",
              "      border-color: transparent;\n",
              "      border-right-color: var(--fill-color);\n",
              "    }\n",
              "    80% {\n",
              "      border-color: transparent;\n",
              "      border-right-color: var(--fill-color);\n",
              "      border-bottom-color: var(--fill-color);\n",
              "    }\n",
              "    90% {\n",
              "      border-color: transparent;\n",
              "      border-bottom-color: var(--fill-color);\n",
              "    }\n",
              "  }\n",
              "</style>\n",
              "\n",
              "      <script>\n",
              "        async function quickchart(key) {\n",
              "          const quickchartButtonEl =\n",
              "            document.querySelector('#' + key + ' button');\n",
              "          quickchartButtonEl.disabled = true;  // To prevent multiple clicks.\n",
              "          quickchartButtonEl.classList.add('colab-df-spinner');\n",
              "          try {\n",
              "            const charts = await google.colab.kernel.invokeFunction(\n",
              "                'suggestCharts', [key], {});\n",
              "          } catch (error) {\n",
              "            console.error('Error during call to suggestCharts:', error);\n",
              "          }\n",
              "          quickchartButtonEl.classList.remove('colab-df-spinner');\n",
              "          quickchartButtonEl.classList.add('colab-df-quickchart-complete');\n",
              "        }\n",
              "        (() => {\n",
              "          let quickchartButtonEl =\n",
              "            document.querySelector('#df-baf46c4c-12cd-4027-8438-616195fa47ab button');\n",
              "          quickchartButtonEl.style.display =\n",
              "            google.colab.kernel.accessAllowed ? 'block' : 'none';\n",
              "        })();\n",
              "      </script>\n",
              "    </div>\n",
              "\n",
              "  <div id=\"id_9e148cb8-fafb-47a2-90c5-4c05350544ea\">\n",
              "    <style>\n",
              "      .colab-df-generate {\n",
              "        background-color: #E8F0FE;\n",
              "        border: none;\n",
              "        border-radius: 50%;\n",
              "        cursor: pointer;\n",
              "        display: none;\n",
              "        fill: #1967D2;\n",
              "        height: 32px;\n",
              "        padding: 0 0 0 0;\n",
              "        width: 32px;\n",
              "      }\n",
              "\n",
              "      .colab-df-generate:hover {\n",
              "        background-color: #E2EBFA;\n",
              "        box-shadow: 0px 1px 2px rgba(60, 64, 67, 0.3), 0px 1px 3px 1px rgba(60, 64, 67, 0.15);\n",
              "        fill: #174EA6;\n",
              "      }\n",
              "\n",
              "      [theme=dark] .colab-df-generate {\n",
              "        background-color: #3B4455;\n",
              "        fill: #D2E3FC;\n",
              "      }\n",
              "\n",
              "      [theme=dark] .colab-df-generate:hover {\n",
              "        background-color: #434B5C;\n",
              "        box-shadow: 0px 1px 3px 1px rgba(0, 0, 0, 0.15);\n",
              "        filter: drop-shadow(0px 1px 2px rgba(0, 0, 0, 0.3));\n",
              "        fill: #FFFFFF;\n",
              "      }\n",
              "    </style>\n",
              "    <button class=\"colab-df-generate\" onclick=\"generateWithVariable('df')\"\n",
              "            title=\"Generate code using this dataframe.\"\n",
              "            style=\"display:none;\">\n",
              "\n",
              "  <svg xmlns=\"http://www.w3.org/2000/svg\" height=\"24px\"viewBox=\"0 0 24 24\"\n",
              "       width=\"24px\">\n",
              "    <path d=\"M7,19H8.4L18.45,9,17,7.55,7,17.6ZM5,21V16.75L18.45,3.32a2,2,0,0,1,2.83,0l1.4,1.43a1.91,1.91,0,0,1,.58,1.4,1.91,1.91,0,0,1-.58,1.4L9.25,21ZM18.45,9,17,7.55Zm-12,3A5.31,5.31,0,0,0,4.9,8.1,5.31,5.31,0,0,0,1,6.5,5.31,5.31,0,0,0,4.9,4.9,5.31,5.31,0,0,0,6.5,1,5.31,5.31,0,0,0,8.1,4.9,5.31,5.31,0,0,0,12,6.5,5.46,5.46,0,0,0,6.5,12Z\"/>\n",
              "  </svg>\n",
              "    </button>\n",
              "    <script>\n",
              "      (() => {\n",
              "      const buttonEl =\n",
              "        document.querySelector('#id_9e148cb8-fafb-47a2-90c5-4c05350544ea button.colab-df-generate');\n",
              "      buttonEl.style.display =\n",
              "        google.colab.kernel.accessAllowed ? 'block' : 'none';\n",
              "\n",
              "      buttonEl.onclick = () => {\n",
              "        google.colab.notebook.generateWithVariable('df');\n",
              "      }\n",
              "      })();\n",
              "    </script>\n",
              "  </div>\n",
              "\n",
              "    </div>\n",
              "  </div>\n"
            ],
            "application/vnd.google.colaboratory.intrinsic+json": {
              "type": "dataframe",
              "variable_name": "df",
              "summary": "{\n  \"name\": \"df\",\n  \"rows\": 920,\n  \"fields\": [\n    {\n      \"column\": \"age\",\n      \"properties\": {\n        \"dtype\": \"number\",\n        \"std\": 9.424685209576857,\n        \"min\": 28.0,\n        \"max\": 77.0,\n        \"num_unique_values\": 50,\n        \"samples\": [\n          64.0,\n          74.0,\n          39.0\n        ],\n        \"semantic_type\": \"\",\n        \"description\": \"\"\n      }\n    },\n    {\n      \"column\": \"sex\",\n      \"properties\": {\n        \"dtype\": \"number\",\n        \"std\": 0.40814784327149195,\n        \"min\": 0.0,\n        \"max\": 1.0,\n        \"num_unique_values\": 2,\n        \"samples\": [\n          0.0,\n          1.0\n        ],\n        \"semantic_type\": \"\",\n        \"description\": \"\"\n      }\n    },\n    {\n      \"column\": \"cp\",\n      \"properties\": {\n        \"dtype\": \"number\",\n        \"std\": 0.9309688168655602,\n        \"min\": 1.0,\n        \"max\": 4.0,\n        \"num_unique_values\": 4,\n        \"samples\": [\n          4.0,\n          2.0\n        ],\n        \"semantic_type\": \"\",\n        \"description\": \"\"\n      }\n    },\n    {\n      \"column\": \"trestbps\",\n      \"properties\": {\n        \"dtype\": \"number\",\n        \"std\": 18.56915334064608,\n        \"min\": 0.0,\n        \"max\": 200.0,\n        \"num_unique_values\": 86,\n        \"samples\": [\n          131.4,\n          145.0\n        ],\n        \"semantic_type\": \"\",\n        \"description\": \"\"\n      }\n    },\n    {\n      \"column\": \"chol\",\n      \"properties\": {\n        \"dtype\": \"number\",\n        \"std\": 109.24011379887165,\n        \"min\": 0.0,\n        \"max\": 603.0,\n        \"num_unique_values\": 240,\n        \"samples\": [\n          219.0,\n          268.0\n        ],\n        \"semantic_type\": \"\",\n        \"description\": \"\"\n      }\n    },\n    {\n      \"column\": \"fbs\",\n      \"properties\": {\n        \"dtype\": \"number\",\n        \"std\": 0.3574840063272333,\n        \"min\": 0.0,\n        \"max\": 1.0,\n        \"num_unique_values\": 5,\n        \"samples\": [\n          0.0,\n          0.6\n        ],\n        \"semantic_type\": \"\",\n        \"description\": \"\"\n      }\n    },\n    {\n      \"column\": \"restecg\",\n      \"properties\": {\n        \"dtype\": \"number\",\n        \"std\": 0.8049781245181933,\n        \"min\": 0.0,\n        \"max\": 2.0,\n        \"num_unique_values\": 5,\n        \"samples\": [\n          0.0,\n          0.4\n        ],\n        \"semantic_type\": \"\",\n        \"description\": \"\"\n      }\n    },\n    {\n      \"column\": \"thalach\",\n      \"properties\": {\n        \"dtype\": \"number\",\n        \"std\": 25.438032834726798,\n        \"min\": 60.0,\n        \"max\": 202.0,\n        \"num_unique_values\": 156,\n        \"samples\": [\n          100.0,\n          164.0\n        ],\n        \"semantic_type\": \"\",\n        \"description\": \"\"\n      }\n    },\n    {\n      \"column\": \"exang\",\n      \"properties\": {\n        \"dtype\": \"number\",\n        \"std\": 0.4771776798096592,\n        \"min\": 0.0,\n        \"max\": 1.0,\n        \"num_unique_values\": 6,\n        \"samples\": [\n          0.0,\n          1.0\n        ],\n        \"semantic_type\": \"\",\n        \"description\": \"\"\n      }\n    },\n    {\n      \"column\": \"oldpeak\",\n      \"properties\": {\n        \"dtype\": \"number\",\n        \"std\": 1.0398303774608326,\n        \"min\": 0.0,\n        \"max\": 6.2,\n        \"num_unique_values\": 64,\n        \"samples\": [\n          1.46,\n          1.12\n        ],\n        \"semantic_type\": \"\",\n        \"description\": \"\"\n      }\n    },\n    {\n      \"column\": \"slope\",\n      \"properties\": {\n        \"dtype\": \"number\",\n        \"std\": 0.5392804813581921,\n        \"min\": 1.0,\n        \"max\": 3.0,\n        \"num_unique_values\": 10,\n        \"samples\": [\n          2.4,\n          2.0\n        ],\n        \"semantic_type\": \"\",\n        \"description\": \"\"\n      }\n    },\n    {\n      \"column\": \"ca\",\n      \"properties\": {\n        \"dtype\": \"number\",\n        \"std\": 0.6677646215687126,\n        \"min\": 0.0,\n        \"max\": 3.0,\n        \"num_unique_values\": 14,\n        \"samples\": [\n          0.8,\n          1.4\n        ],\n        \"semantic_type\": \"\",\n        \"description\": \"\"\n      }\n    },\n    {\n      \"column\": \"thal\",\n      \"properties\": {\n        \"dtype\": \"number\",\n        \"std\": 1.50865975787547,\n        \"min\": 3.0,\n        \"max\": 7.0,\n        \"num_unique_values\": 15,\n        \"samples\": [\n          5.8,\n          6.8\n        ],\n        \"semantic_type\": \"\",\n        \"description\": \"\"\n      }\n    },\n    {\n      \"column\": \"target\",\n      \"properties\": {\n        \"dtype\": \"number\",\n        \"std\": 0,\n        \"min\": 0,\n        \"max\": 1,\n        \"num_unique_values\": 2,\n        \"samples\": [\n          1,\n          0\n        ],\n        \"semantic_type\": \"\",\n        \"description\": \"\"\n      }\n    },\n    {\n      \"column\": \"source\",\n      \"properties\": {\n        \"dtype\": \"category\",\n        \"num_unique_values\": 4,\n        \"samples\": [\n          \"hungarian\",\n          \"switzerland\"\n        ],\n        \"semantic_type\": \"\",\n        \"description\": \"\"\n      }\n    }\n  ]\n}"
            }
          },
          "metadata": {},
          "execution_count": 3
        }
      ]
    },
    {
      "cell_type": "markdown",
      "source": [
        "## Data Undertanding"
      ],
      "metadata": {
        "id": "MvYLxonO9mh6"
      }
    },
    {
      "cell_type": "markdown",
      "source": [
        "Dataset yang digunakan merupakan dataset berjudul \"Common Heart Disease (4 Hospitals)  yang dapat diakses melalui kaggle dengan link berikut ini [Common Heart Disease Dataset]( https://www.kaggle.com/datasets/denysskyrda/common-heart-disease-data-4-hospitals). Dataset ini terdiri dari 920 Baris dengan data pasien dengan parameter berupa variabel yang relevan dengan penyakit jantung."
      ],
      "metadata": {
        "id": "x1RGPFYqds7h"
      }
    },
    {
      "cell_type": "markdown",
      "source": [
        "**Kondisi Data**\n",
        "* Tidak ditemukan missing value pada 920 baris dan 15 kolom data.\n",
        "* Ditemukan 2 data duplikat yang telah dihapus.\n",
        "* Outlier terdeteksi pada variabel trestbps dan chol, dan berhasil ditangani menggunakan metode IQR+Median Replacement."
      ],
      "metadata": {
        "id": "rdQbGhnOAe6S"
      }
    },
    {
      "cell_type": "markdown",
      "source": [
        "**Fitur yang terdapat pada setiap kolom dataset**:\n",
        "\n",
        "*   age – Usia pasien\n",
        "*   sex – Jenis kelamin (1 = laki-laki, 0 = perempuan)\n",
        "* cp – Jenis nyeri dada\n",
        "* trestbps – Tekanan darah saat istirahat\n",
        "* chol – Kadar kolesterol dalam darah (mg/dl)\n",
        "* fbs – Gula darah puasa > 120 mg/dl (1 = ya, 0 = tidak)\n",
        "* restecg – Hasil elektrokardiogram saat istirahat\n",
        "* thalach – Detak jantung maksimum yang dicapai\n",
        "* exang – Angina (nyeri dada) yang dipicu oleh olahraga (1 = ya, 0 = tidak)\n",
        "* oldpeak – Depresi segmen ST (nilai positif, dibulatkan)\n",
        "* slope – Kemiringan segmen ST saat latihan\n",
        "* ca – Jumlah pembuluh darah utama yang terlihat melalui fluoroskopi\n",
        "* thal – Hasil tes thalassemia\n",
        "* target – Kehadiran penyakit jantung (1 = ada penyakit, 0 = tidak ada penyakit)"
      ],
      "metadata": {
        "id": "yF2HXkWo-sSZ"
      }
    },
    {
      "cell_type": "markdown",
      "source": [
        "**Insight**\n",
        "\n",
        "\n",
        "- Outlier ditemukan pada variabel trestbps (tekanan darah) dan chol (kolesterol) dengan nilai 0 yang tidak normal secara medis, dan berhasil dikoreksi menggunakan metode IQR+Median Replacement.\n",
        "- Korelasi tinggi ditemukan antara cp (nyeri dada), exang (nyeri dada saat olahraga), oldpeak, thal, dan ca dengan target variable, mengindikasikan fitur penting untuk prediksi.\n",
        "- Mayoritas data numerik menunjukkan distribusi mendekati normal, mendukung penggunaan algoritma linear.\n",
        "- Kolom Source Tag tidak digunakan dalam pemodelan karena hanya menunjukkan asal rumah sakit data.\n"
      ],
      "metadata": {
        "id": "xmxaf5Pr-2gt"
      }
    },
    {
      "cell_type": "markdown",
      "source": [
        "### Exploratory Data Analysis (EDA)"
      ],
      "metadata": {
        "id": "3qmPZbo5-cns"
      }
    },
    {
      "cell_type": "markdown",
      "source": [
        "###### Cek ukuran data"
      ],
      "metadata": {
        "id": "h-rKeOXSYwrz"
      }
    },
    {
      "cell_type": "markdown",
      "source": [
        "Tahapan ini dilakukan untuk memahami isi dataset. hal pertama yang dilakukan adalah memahami dan mengecek isi dari dataset dengan menggunakan `.shape', .info() `dan `.describe()`\n",
        "\n",
        "\n",
        "\n",
        "\n",
        "\n",
        "\n",
        "\n"
      ],
      "metadata": {
        "id": "0nzQeMcAFe87"
      }
    },
    {
      "cell_type": "code",
      "source": [
        "df.shape"
      ],
      "metadata": {
        "colab": {
          "base_uri": "https://localhost:8080/"
        },
        "id": "9xIZqFI1UreY",
        "outputId": "d94ed0d7-a16c-4e64-8055-3b2e70d1e22d"
      },
      "execution_count": 4,
      "outputs": [
        {
          "output_type": "execute_result",
          "data": {
            "text/plain": [
              "(920, 15)"
            ]
          },
          "metadata": {},
          "execution_count": 4
        }
      ]
    },
    {
      "cell_type": "markdown",
      "source": [
        "Dalam Cell diatas ini dapat kita ketahui bahwa dataset terdiri dari 920 barus data dengan 15 kolom"
      ],
      "metadata": {
        "id": "ph36Bb51VUI1"
      }
    },
    {
      "cell_type": "markdown",
      "source": [
        "##### Cek Informasi Data"
      ],
      "metadata": {
        "id": "dChHEg3RYz2H"
      }
    },
    {
      "cell_type": "code",
      "source": [
        "# Melihat info dataset untuk mengetahui tipe data setiap kolom\n",
        "df.info()"
      ],
      "metadata": {
        "colab": {
          "base_uri": "https://localhost:8080/"
        },
        "id": "FzNAyLISN4cE",
        "outputId": "c866dd03-9f47-4082-a120-d39faa4ad89b"
      },
      "execution_count": 5,
      "outputs": [
        {
          "output_type": "stream",
          "name": "stdout",
          "text": [
            "<class 'pandas.core.frame.DataFrame'>\n",
            "RangeIndex: 920 entries, 0 to 919\n",
            "Data columns (total 15 columns):\n",
            " #   Column    Non-Null Count  Dtype  \n",
            "---  ------    --------------  -----  \n",
            " 0   age       920 non-null    float64\n",
            " 1   sex       920 non-null    float64\n",
            " 2   cp        920 non-null    float64\n",
            " 3   trestbps  920 non-null    float64\n",
            " 4   chol      920 non-null    float64\n",
            " 5   fbs       920 non-null    float64\n",
            " 6   restecg   920 non-null    float64\n",
            " 7   thalach   920 non-null    float64\n",
            " 8   exang     920 non-null    float64\n",
            " 9   oldpeak   920 non-null    float64\n",
            " 10  slope     920 non-null    float64\n",
            " 11  ca        920 non-null    float64\n",
            " 12  thal      920 non-null    float64\n",
            " 13  target    920 non-null    int64  \n",
            " 14  source    920 non-null    object \n",
            "dtypes: float64(13), int64(1), object(1)\n",
            "memory usage: 107.9+ KB\n"
          ]
        }
      ]
    },
    {
      "cell_type": "markdown",
      "source": [
        "berdasarkan output tersebut kita dapat mengetahui ada beberapa jenis data\n",
        "\n",
        "\n",
        "*   12 Kolom dengan tipe data float dengan kategori numerik untuk kolom age, sex, cp, trestbos,chil,cfbs,resrecgh,thalach,exang,oldpeak,slope,ca,thal\n",
        "*   1 Kolom integer untuk label target dengan nama kolom target yang didalamnya terdapat angka 0 yang artinya pasien tidak memiliki tanda tanda penyakit jantung dan angka 1 yang artinya pasien memiliki tanda tanda penyakit jantung\n",
        "* 1 Kolom kategorikal dengan data berupa nama rumah sakit dimana data tersebut diambil. Namun karena disini saya berfokus pada prediksi penyakitnya kolom tersebut akan saya hapus\n",
        "\n",
        "\n",
        "\n",
        "\n"
      ],
      "metadata": {
        "id": "4TV9BIH1IXVM"
      }
    },
    {
      "cell_type": "markdown",
      "source": [
        "##### Cek Statistik Deskriptif Dataset"
      ],
      "metadata": {
        "id": "3yPCmHWfY-nF"
      }
    },
    {
      "cell_type": "markdown",
      "source": [
        "pada df.describe() disini kita dapat mengecek isi data secara statistik deskriptif dan menganalisis apakah ada kemungkinan kesalahan data. dari iyang kita lihat diatas ada beberapa kemungkinan data yang mengalami outlier diantaranya\n",
        "\n",
        "\n",
        "*   trestbps (tekanan darah) : alasannya karena tekanan darah di nilai 0 pada kolom min sangat tidak normal dalam medis\n",
        "*   chol (kolesterol) : alasannya karena kolesterol berada di nilai 0 pada kolom min sangat tidak normal dalam medis\n",
        "\n"
      ],
      "metadata": {
        "id": "UHoFIicgLb0V"
      }
    },
    {
      "cell_type": "code",
      "source": [
        "df.describe()"
      ],
      "metadata": {
        "colab": {
          "base_uri": "https://localhost:8080/",
          "height": 320
        },
        "id": "EULPT7EU_RIA",
        "outputId": "c6e843e7-76e4-4813-a2ed-35ca3ee540ca"
      },
      "execution_count": 6,
      "outputs": [
        {
          "output_type": "execute_result",
          "data": {
            "text/plain": [
              "              age         sex          cp    trestbps        chol         fbs  \\\n",
              "count  920.000000  920.000000  920.000000  920.000000  920.000000  920.000000   \n",
              "mean    53.510870    0.789130    3.250000  132.268478  199.640870    0.176304   \n",
              "std      9.424685    0.408148    0.930969   18.569153  109.240114    0.357484   \n",
              "min     28.000000    0.000000    1.000000    0.000000    0.000000    0.000000   \n",
              "25%     47.000000    1.000000    3.000000  120.000000  177.000000    0.000000   \n",
              "50%     54.000000    1.000000    4.000000  130.000000  223.000000    0.000000   \n",
              "75%     60.000000    1.000000    4.000000  140.000000  267.000000    0.000000   \n",
              "max     77.000000    1.000000    4.000000  200.000000  603.000000    1.000000   \n",
              "\n",
              "          restecg     thalach       exang     oldpeak       slope          ca  \\\n",
              "count  920.000000  920.000000  920.000000  920.000000  920.000000  920.000000   \n",
              "mean     0.604348  136.889565    0.394783    0.910478    1.757609    0.778913   \n",
              "std      0.804978   25.438033    0.477178    1.039830    0.539280    0.667765   \n",
              "min      0.000000   60.000000    0.000000    0.000000    1.000000    0.000000   \n",
              "25%      0.000000  120.000000    0.000000    0.000000    1.200000    0.200000   \n",
              "50%      0.000000  138.000000    0.000000    0.600000    2.000000    0.800000   \n",
              "75%      1.000000  156.000000    1.000000    1.500000    2.000000    1.200000   \n",
              "max      2.000000  202.000000    1.000000    6.200000    3.000000    3.000000   \n",
              "\n",
              "             thal      target  \n",
              "count  920.000000  920.000000  \n",
              "mean     5.371522    0.553261  \n",
              "std      1.508660    0.497426  \n",
              "min      3.000000    0.000000  \n",
              "25%      3.800000    0.000000  \n",
              "50%      6.000000    1.000000  \n",
              "75%      7.000000    1.000000  \n",
              "max      7.000000    1.000000  "
            ],
            "text/html": [
              "\n",
              "  <div id=\"df-55cd8e13-c976-4a2f-9d24-825d236ca36e\" class=\"colab-df-container\">\n",
              "    <div>\n",
              "<style scoped>\n",
              "    .dataframe tbody tr th:only-of-type {\n",
              "        vertical-align: middle;\n",
              "    }\n",
              "\n",
              "    .dataframe tbody tr th {\n",
              "        vertical-align: top;\n",
              "    }\n",
              "\n",
              "    .dataframe thead th {\n",
              "        text-align: right;\n",
              "    }\n",
              "</style>\n",
              "<table border=\"1\" class=\"dataframe\">\n",
              "  <thead>\n",
              "    <tr style=\"text-align: right;\">\n",
              "      <th></th>\n",
              "      <th>age</th>\n",
              "      <th>sex</th>\n",
              "      <th>cp</th>\n",
              "      <th>trestbps</th>\n",
              "      <th>chol</th>\n",
              "      <th>fbs</th>\n",
              "      <th>restecg</th>\n",
              "      <th>thalach</th>\n",
              "      <th>exang</th>\n",
              "      <th>oldpeak</th>\n",
              "      <th>slope</th>\n",
              "      <th>ca</th>\n",
              "      <th>thal</th>\n",
              "      <th>target</th>\n",
              "    </tr>\n",
              "  </thead>\n",
              "  <tbody>\n",
              "    <tr>\n",
              "      <th>count</th>\n",
              "      <td>920.000000</td>\n",
              "      <td>920.000000</td>\n",
              "      <td>920.000000</td>\n",
              "      <td>920.000000</td>\n",
              "      <td>920.000000</td>\n",
              "      <td>920.000000</td>\n",
              "      <td>920.000000</td>\n",
              "      <td>920.000000</td>\n",
              "      <td>920.000000</td>\n",
              "      <td>920.000000</td>\n",
              "      <td>920.000000</td>\n",
              "      <td>920.000000</td>\n",
              "      <td>920.000000</td>\n",
              "      <td>920.000000</td>\n",
              "    </tr>\n",
              "    <tr>\n",
              "      <th>mean</th>\n",
              "      <td>53.510870</td>\n",
              "      <td>0.789130</td>\n",
              "      <td>3.250000</td>\n",
              "      <td>132.268478</td>\n",
              "      <td>199.640870</td>\n",
              "      <td>0.176304</td>\n",
              "      <td>0.604348</td>\n",
              "      <td>136.889565</td>\n",
              "      <td>0.394783</td>\n",
              "      <td>0.910478</td>\n",
              "      <td>1.757609</td>\n",
              "      <td>0.778913</td>\n",
              "      <td>5.371522</td>\n",
              "      <td>0.553261</td>\n",
              "    </tr>\n",
              "    <tr>\n",
              "      <th>std</th>\n",
              "      <td>9.424685</td>\n",
              "      <td>0.408148</td>\n",
              "      <td>0.930969</td>\n",
              "      <td>18.569153</td>\n",
              "      <td>109.240114</td>\n",
              "      <td>0.357484</td>\n",
              "      <td>0.804978</td>\n",
              "      <td>25.438033</td>\n",
              "      <td>0.477178</td>\n",
              "      <td>1.039830</td>\n",
              "      <td>0.539280</td>\n",
              "      <td>0.667765</td>\n",
              "      <td>1.508660</td>\n",
              "      <td>0.497426</td>\n",
              "    </tr>\n",
              "    <tr>\n",
              "      <th>min</th>\n",
              "      <td>28.000000</td>\n",
              "      <td>0.000000</td>\n",
              "      <td>1.000000</td>\n",
              "      <td>0.000000</td>\n",
              "      <td>0.000000</td>\n",
              "      <td>0.000000</td>\n",
              "      <td>0.000000</td>\n",
              "      <td>60.000000</td>\n",
              "      <td>0.000000</td>\n",
              "      <td>0.000000</td>\n",
              "      <td>1.000000</td>\n",
              "      <td>0.000000</td>\n",
              "      <td>3.000000</td>\n",
              "      <td>0.000000</td>\n",
              "    </tr>\n",
              "    <tr>\n",
              "      <th>25%</th>\n",
              "      <td>47.000000</td>\n",
              "      <td>1.000000</td>\n",
              "      <td>3.000000</td>\n",
              "      <td>120.000000</td>\n",
              "      <td>177.000000</td>\n",
              "      <td>0.000000</td>\n",
              "      <td>0.000000</td>\n",
              "      <td>120.000000</td>\n",
              "      <td>0.000000</td>\n",
              "      <td>0.000000</td>\n",
              "      <td>1.200000</td>\n",
              "      <td>0.200000</td>\n",
              "      <td>3.800000</td>\n",
              "      <td>0.000000</td>\n",
              "    </tr>\n",
              "    <tr>\n",
              "      <th>50%</th>\n",
              "      <td>54.000000</td>\n",
              "      <td>1.000000</td>\n",
              "      <td>4.000000</td>\n",
              "      <td>130.000000</td>\n",
              "      <td>223.000000</td>\n",
              "      <td>0.000000</td>\n",
              "      <td>0.000000</td>\n",
              "      <td>138.000000</td>\n",
              "      <td>0.000000</td>\n",
              "      <td>0.600000</td>\n",
              "      <td>2.000000</td>\n",
              "      <td>0.800000</td>\n",
              "      <td>6.000000</td>\n",
              "      <td>1.000000</td>\n",
              "    </tr>\n",
              "    <tr>\n",
              "      <th>75%</th>\n",
              "      <td>60.000000</td>\n",
              "      <td>1.000000</td>\n",
              "      <td>4.000000</td>\n",
              "      <td>140.000000</td>\n",
              "      <td>267.000000</td>\n",
              "      <td>0.000000</td>\n",
              "      <td>1.000000</td>\n",
              "      <td>156.000000</td>\n",
              "      <td>1.000000</td>\n",
              "      <td>1.500000</td>\n",
              "      <td>2.000000</td>\n",
              "      <td>1.200000</td>\n",
              "      <td>7.000000</td>\n",
              "      <td>1.000000</td>\n",
              "    </tr>\n",
              "    <tr>\n",
              "      <th>max</th>\n",
              "      <td>77.000000</td>\n",
              "      <td>1.000000</td>\n",
              "      <td>4.000000</td>\n",
              "      <td>200.000000</td>\n",
              "      <td>603.000000</td>\n",
              "      <td>1.000000</td>\n",
              "      <td>2.000000</td>\n",
              "      <td>202.000000</td>\n",
              "      <td>1.000000</td>\n",
              "      <td>6.200000</td>\n",
              "      <td>3.000000</td>\n",
              "      <td>3.000000</td>\n",
              "      <td>7.000000</td>\n",
              "      <td>1.000000</td>\n",
              "    </tr>\n",
              "  </tbody>\n",
              "</table>\n",
              "</div>\n",
              "    <div class=\"colab-df-buttons\">\n",
              "\n",
              "  <div class=\"colab-df-container\">\n",
              "    <button class=\"colab-df-convert\" onclick=\"convertToInteractive('df-55cd8e13-c976-4a2f-9d24-825d236ca36e')\"\n",
              "            title=\"Convert this dataframe to an interactive table.\"\n",
              "            style=\"display:none;\">\n",
              "\n",
              "  <svg xmlns=\"http://www.w3.org/2000/svg\" height=\"24px\" viewBox=\"0 -960 960 960\">\n",
              "    <path d=\"M120-120v-720h720v720H120Zm60-500h600v-160H180v160Zm220 220h160v-160H400v160Zm0 220h160v-160H400v160ZM180-400h160v-160H180v160Zm440 0h160v-160H620v160ZM180-180h160v-160H180v160Zm440 0h160v-160H620v160Z\"/>\n",
              "  </svg>\n",
              "    </button>\n",
              "\n",
              "  <style>\n",
              "    .colab-df-container {\n",
              "      display:flex;\n",
              "      gap: 12px;\n",
              "    }\n",
              "\n",
              "    .colab-df-convert {\n",
              "      background-color: #E8F0FE;\n",
              "      border: none;\n",
              "      border-radius: 50%;\n",
              "      cursor: pointer;\n",
              "      display: none;\n",
              "      fill: #1967D2;\n",
              "      height: 32px;\n",
              "      padding: 0 0 0 0;\n",
              "      width: 32px;\n",
              "    }\n",
              "\n",
              "    .colab-df-convert:hover {\n",
              "      background-color: #E2EBFA;\n",
              "      box-shadow: 0px 1px 2px rgba(60, 64, 67, 0.3), 0px 1px 3px 1px rgba(60, 64, 67, 0.15);\n",
              "      fill: #174EA6;\n",
              "    }\n",
              "\n",
              "    .colab-df-buttons div {\n",
              "      margin-bottom: 4px;\n",
              "    }\n",
              "\n",
              "    [theme=dark] .colab-df-convert {\n",
              "      background-color: #3B4455;\n",
              "      fill: #D2E3FC;\n",
              "    }\n",
              "\n",
              "    [theme=dark] .colab-df-convert:hover {\n",
              "      background-color: #434B5C;\n",
              "      box-shadow: 0px 1px 3px 1px rgba(0, 0, 0, 0.15);\n",
              "      filter: drop-shadow(0px 1px 2px rgba(0, 0, 0, 0.3));\n",
              "      fill: #FFFFFF;\n",
              "    }\n",
              "  </style>\n",
              "\n",
              "    <script>\n",
              "      const buttonEl =\n",
              "        document.querySelector('#df-55cd8e13-c976-4a2f-9d24-825d236ca36e button.colab-df-convert');\n",
              "      buttonEl.style.display =\n",
              "        google.colab.kernel.accessAllowed ? 'block' : 'none';\n",
              "\n",
              "      async function convertToInteractive(key) {\n",
              "        const element = document.querySelector('#df-55cd8e13-c976-4a2f-9d24-825d236ca36e');\n",
              "        const dataTable =\n",
              "          await google.colab.kernel.invokeFunction('convertToInteractive',\n",
              "                                                    [key], {});\n",
              "        if (!dataTable) return;\n",
              "\n",
              "        const docLinkHtml = 'Like what you see? Visit the ' +\n",
              "          '<a target=\"_blank\" href=https://colab.research.google.com/notebooks/data_table.ipynb>data table notebook</a>'\n",
              "          + ' to learn more about interactive tables.';\n",
              "        element.innerHTML = '';\n",
              "        dataTable['output_type'] = 'display_data';\n",
              "        await google.colab.output.renderOutput(dataTable, element);\n",
              "        const docLink = document.createElement('div');\n",
              "        docLink.innerHTML = docLinkHtml;\n",
              "        element.appendChild(docLink);\n",
              "      }\n",
              "    </script>\n",
              "  </div>\n",
              "\n",
              "\n",
              "    <div id=\"df-c7d3f18a-e4ff-44e0-b6d8-ab316c908295\">\n",
              "      <button class=\"colab-df-quickchart\" onclick=\"quickchart('df-c7d3f18a-e4ff-44e0-b6d8-ab316c908295')\"\n",
              "                title=\"Suggest charts\"\n",
              "                style=\"display:none;\">\n",
              "\n",
              "<svg xmlns=\"http://www.w3.org/2000/svg\" height=\"24px\"viewBox=\"0 0 24 24\"\n",
              "     width=\"24px\">\n",
              "    <g>\n",
              "        <path d=\"M19 3H5c-1.1 0-2 .9-2 2v14c0 1.1.9 2 2 2h14c1.1 0 2-.9 2-2V5c0-1.1-.9-2-2-2zM9 17H7v-7h2v7zm4 0h-2V7h2v10zm4 0h-2v-4h2v4z\"/>\n",
              "    </g>\n",
              "</svg>\n",
              "      </button>\n",
              "\n",
              "<style>\n",
              "  .colab-df-quickchart {\n",
              "      --bg-color: #E8F0FE;\n",
              "      --fill-color: #1967D2;\n",
              "      --hover-bg-color: #E2EBFA;\n",
              "      --hover-fill-color: #174EA6;\n",
              "      --disabled-fill-color: #AAA;\n",
              "      --disabled-bg-color: #DDD;\n",
              "  }\n",
              "\n",
              "  [theme=dark] .colab-df-quickchart {\n",
              "      --bg-color: #3B4455;\n",
              "      --fill-color: #D2E3FC;\n",
              "      --hover-bg-color: #434B5C;\n",
              "      --hover-fill-color: #FFFFFF;\n",
              "      --disabled-bg-color: #3B4455;\n",
              "      --disabled-fill-color: #666;\n",
              "  }\n",
              "\n",
              "  .colab-df-quickchart {\n",
              "    background-color: var(--bg-color);\n",
              "    border: none;\n",
              "    border-radius: 50%;\n",
              "    cursor: pointer;\n",
              "    display: none;\n",
              "    fill: var(--fill-color);\n",
              "    height: 32px;\n",
              "    padding: 0;\n",
              "    width: 32px;\n",
              "  }\n",
              "\n",
              "  .colab-df-quickchart:hover {\n",
              "    background-color: var(--hover-bg-color);\n",
              "    box-shadow: 0 1px 2px rgba(60, 64, 67, 0.3), 0 1px 3px 1px rgba(60, 64, 67, 0.15);\n",
              "    fill: var(--button-hover-fill-color);\n",
              "  }\n",
              "\n",
              "  .colab-df-quickchart-complete:disabled,\n",
              "  .colab-df-quickchart-complete:disabled:hover {\n",
              "    background-color: var(--disabled-bg-color);\n",
              "    fill: var(--disabled-fill-color);\n",
              "    box-shadow: none;\n",
              "  }\n",
              "\n",
              "  .colab-df-spinner {\n",
              "    border: 2px solid var(--fill-color);\n",
              "    border-color: transparent;\n",
              "    border-bottom-color: var(--fill-color);\n",
              "    animation:\n",
              "      spin 1s steps(1) infinite;\n",
              "  }\n",
              "\n",
              "  @keyframes spin {\n",
              "    0% {\n",
              "      border-color: transparent;\n",
              "      border-bottom-color: var(--fill-color);\n",
              "      border-left-color: var(--fill-color);\n",
              "    }\n",
              "    20% {\n",
              "      border-color: transparent;\n",
              "      border-left-color: var(--fill-color);\n",
              "      border-top-color: var(--fill-color);\n",
              "    }\n",
              "    30% {\n",
              "      border-color: transparent;\n",
              "      border-left-color: var(--fill-color);\n",
              "      border-top-color: var(--fill-color);\n",
              "      border-right-color: var(--fill-color);\n",
              "    }\n",
              "    40% {\n",
              "      border-color: transparent;\n",
              "      border-right-color: var(--fill-color);\n",
              "      border-top-color: var(--fill-color);\n",
              "    }\n",
              "    60% {\n",
              "      border-color: transparent;\n",
              "      border-right-color: var(--fill-color);\n",
              "    }\n",
              "    80% {\n",
              "      border-color: transparent;\n",
              "      border-right-color: var(--fill-color);\n",
              "      border-bottom-color: var(--fill-color);\n",
              "    }\n",
              "    90% {\n",
              "      border-color: transparent;\n",
              "      border-bottom-color: var(--fill-color);\n",
              "    }\n",
              "  }\n",
              "</style>\n",
              "\n",
              "      <script>\n",
              "        async function quickchart(key) {\n",
              "          const quickchartButtonEl =\n",
              "            document.querySelector('#' + key + ' button');\n",
              "          quickchartButtonEl.disabled = true;  // To prevent multiple clicks.\n",
              "          quickchartButtonEl.classList.add('colab-df-spinner');\n",
              "          try {\n",
              "            const charts = await google.colab.kernel.invokeFunction(\n",
              "                'suggestCharts', [key], {});\n",
              "          } catch (error) {\n",
              "            console.error('Error during call to suggestCharts:', error);\n",
              "          }\n",
              "          quickchartButtonEl.classList.remove('colab-df-spinner');\n",
              "          quickchartButtonEl.classList.add('colab-df-quickchart-complete');\n",
              "        }\n",
              "        (() => {\n",
              "          let quickchartButtonEl =\n",
              "            document.querySelector('#df-c7d3f18a-e4ff-44e0-b6d8-ab316c908295 button');\n",
              "          quickchartButtonEl.style.display =\n",
              "            google.colab.kernel.accessAllowed ? 'block' : 'none';\n",
              "        })();\n",
              "      </script>\n",
              "    </div>\n",
              "\n",
              "    </div>\n",
              "  </div>\n"
            ],
            "application/vnd.google.colaboratory.intrinsic+json": {
              "type": "dataframe",
              "summary": "{\n  \"name\": \"df\",\n  \"rows\": 8,\n  \"fields\": [\n    {\n      \"column\": \"age\",\n      \"properties\": {\n        \"dtype\": \"number\",\n        \"std\": 309.3334389931605,\n        \"min\": 9.424685209576857,\n        \"max\": 920.0,\n        \"num_unique_values\": 8,\n        \"samples\": [\n          53.51086956521739,\n          54.0,\n          920.0\n        ],\n        \"semantic_type\": \"\",\n        \"description\": \"\"\n      }\n    },\n    {\n      \"column\": \"sex\",\n      \"properties\": {\n        \"dtype\": \"number\",\n        \"std\": 325.00682165255404,\n        \"min\": 0.0,\n        \"max\": 920.0,\n        \"num_unique_values\": 5,\n        \"samples\": [\n          0.7891304347826087,\n          1.0,\n          0.40814784327149195\n        ],\n        \"semantic_type\": \"\",\n        \"description\": \"\"\n      }\n    },\n    {\n      \"column\": \"cp\",\n      \"properties\": {\n        \"dtype\": \"number\",\n        \"std\": 324.25230419651837,\n        \"min\": 0.9309688168655602,\n        \"max\": 920.0,\n        \"num_unique_values\": 6,\n        \"samples\": [\n          920.0,\n          3.25,\n          4.0\n        ],\n        \"semantic_type\": \"\",\n        \"description\": \"\"\n      }\n    },\n    {\n      \"column\": \"trestbps\",\n      \"properties\": {\n        \"dtype\": \"number\",\n        \"std\": 295.28244565385876,\n        \"min\": 0.0,\n        \"max\": 920.0,\n        \"num_unique_values\": 8,\n        \"samples\": [\n          132.26847826086956,\n          130.0,\n          920.0\n        ],\n        \"semantic_type\": \"\",\n        \"description\": \"\"\n      }\n    },\n    {\n      \"column\": \"chol\",\n      \"properties\": {\n        \"dtype\": \"number\",\n        \"std\": 300.85476043533316,\n        \"min\": 0.0,\n        \"max\": 920.0,\n        \"num_unique_values\": 8,\n        \"samples\": [\n          199.6408695652174,\n          223.0,\n          920.0\n        ],\n        \"semantic_type\": \"\",\n        \"description\": \"\"\n      }\n    },\n    {\n      \"column\": \"fbs\",\n      \"properties\": {\n        \"dtype\": \"number\",\n        \"std\": 325.1918320651549,\n        \"min\": 0.0,\n        \"max\": 920.0,\n        \"num_unique_values\": 5,\n        \"samples\": [\n          0.17630434782608695,\n          1.0,\n          0.3574840063272333\n        ],\n        \"semantic_type\": \"\",\n        \"description\": \"\"\n      }\n    },\n    {\n      \"column\": \"restecg\",\n      \"properties\": {\n        \"dtype\": \"number\",\n        \"std\": 325.04712581145594,\n        \"min\": 0.0,\n        \"max\": 920.0,\n        \"num_unique_values\": 6,\n        \"samples\": [\n          920.0,\n          0.6043478260869565,\n          2.0\n        ],\n        \"semantic_type\": \"\",\n        \"description\": \"\"\n      }\n    },\n    {\n      \"column\": \"thalach\",\n      \"properties\": {\n        \"dtype\": \"number\",\n        \"std\": 288.22247206453477,\n        \"min\": 25.438032834726798,\n        \"max\": 920.0,\n        \"num_unique_values\": 8,\n        \"samples\": [\n          136.88956521739132,\n          138.0,\n          920.0\n        ],\n        \"semantic_type\": \"\",\n        \"description\": \"\"\n      }\n    },\n    {\n      \"column\": \"exang\",\n      \"properties\": {\n        \"dtype\": \"number\",\n        \"std\": 325.12432823372194,\n        \"min\": 0.0,\n        \"max\": 920.0,\n        \"num_unique_values\": 5,\n        \"samples\": [\n          0.3947826086956522,\n          1.0,\n          0.4771776798096592\n        ],\n        \"semantic_type\": \"\",\n        \"description\": \"\"\n      }\n    },\n    {\n      \"column\": \"oldpeak\",\n      \"properties\": {\n        \"dtype\": \"number\",\n        \"std\": 324.7575481642671,\n        \"min\": 0.0,\n        \"max\": 920.0,\n        \"num_unique_values\": 7,\n        \"samples\": [\n          920.0,\n          0.9104782608695652,\n          1.5\n        ],\n        \"semantic_type\": \"\",\n        \"description\": \"\"\n      }\n    },\n    {\n      \"column\": \"slope\",\n      \"properties\": {\n        \"dtype\": \"number\",\n        \"std\": 324.68930493923364,\n        \"min\": 0.5392804813581921,\n        \"max\": 920.0,\n        \"num_unique_values\": 7,\n        \"samples\": [\n          920.0,\n          1.757608695652174,\n          2.0\n        ],\n        \"semantic_type\": \"\",\n        \"description\": \"\"\n      }\n    },\n    {\n      \"column\": \"ca\",\n      \"properties\": {\n        \"dtype\": \"number\",\n        \"std\": 324.9346999149347,\n        \"min\": 0.0,\n        \"max\": 920.0,\n        \"num_unique_values\": 8,\n        \"samples\": [\n          0.7789130434782607,\n          0.8,\n          920.0\n        ],\n        \"semantic_type\": \"\",\n        \"description\": \"\"\n      }\n    },\n    {\n      \"column\": \"thal\",\n      \"properties\": {\n        \"dtype\": \"number\",\n        \"std\": 323.57386730688575,\n        \"min\": 1.50865975787547,\n        \"max\": 920.0,\n        \"num_unique_values\": 7,\n        \"samples\": [\n          920.0,\n          5.371521739130436,\n          6.0\n        ],\n        \"semantic_type\": \"\",\n        \"description\": \"\"\n      }\n    },\n    {\n      \"column\": \"target\",\n      \"properties\": {\n        \"dtype\": \"number\",\n        \"std\": 325.06479455951455,\n        \"min\": 0.0,\n        \"max\": 920.0,\n        \"num_unique_values\": 5,\n        \"samples\": [\n          0.5532608695652174,\n          1.0,\n          0.49742560031315924\n        ],\n        \"semantic_type\": \"\",\n        \"description\": \"\"\n      }\n    }\n  ]\n}"
            }
          },
          "metadata": {},
          "execution_count": 6
        }
      ]
    },
    {
      "cell_type": "markdown",
      "source": [
        "#### Cek Missing Value"
      ],
      "metadata": {
        "id": "imfCSq75BC2M"
      }
    },
    {
      "cell_type": "markdown",
      "source": [
        "pada tahapan ini kita dapat melakukan pengecekan missing value dalam dataset tersebut diantaranya menggunakan funsgi .`isnull().sum()` untuk mengetahui missing value di setiap kolom"
      ],
      "metadata": {
        "id": "Ran0265oMr88"
      }
    },
    {
      "cell_type": "code",
      "source": [
        "# Jumlah nilai yang hilang per kolom\n",
        "missing_values = df.isnull().sum()\n",
        "print(\"Cek Missing Value:\")\n",
        "print(missing_values)"
      ],
      "metadata": {
        "colab": {
          "base_uri": "https://localhost:8080/"
        },
        "id": "csTkTIu0O1vv",
        "outputId": "21526616-ee99-4ee4-e75a-5851944f6f2f"
      },
      "execution_count": 7,
      "outputs": [
        {
          "output_type": "stream",
          "name": "stdout",
          "text": [
            "Cek Missing Value:\n",
            "age         0\n",
            "sex         0\n",
            "cp          0\n",
            "trestbps    0\n",
            "chol        0\n",
            "fbs         0\n",
            "restecg     0\n",
            "thalach     0\n",
            "exang       0\n",
            "oldpeak     0\n",
            "slope       0\n",
            "ca          0\n",
            "thal        0\n",
            "target      0\n",
            "source      0\n",
            "dtype: int64\n"
          ]
        }
      ]
    },
    {
      "cell_type": "markdown",
      "source": [
        "Berdasarkan output diatas tidak ditemukan adanya missing value, maka dari itu kita tidak perlu melakukan eksekusi drop atau mengisi nilai NaN pada data karena semua data terisi dengan baik"
      ],
      "metadata": {
        "id": "XaGfoOXXM5OJ"
      }
    },
    {
      "cell_type": "markdown",
      "source": [
        "#### Pengecekan Duplicate Data"
      ],
      "metadata": {
        "id": "cQyLu9b_BOut"
      }
    },
    {
      "cell_type": "markdown",
      "source": [
        "Pada tahapan ini kita dapat melakukan pengecekan duplikasi data dengan df.`duplicated().sum(). `Setelah melakukan pengecekan ternyata terdapat data yang mengalami duplikasi sebanyak 2 duplikasi data."
      ],
      "metadata": {
        "id": "y50jopxQNcFx"
      }
    },
    {
      "cell_type": "code",
      "source": [
        "# cek duplikasi data\n",
        "print(\"Cek Duplikasi Data:\")\n",
        "print(f\"Jumlah duplikasi data sebelum dihapus: {df.duplicated().sum()}\")"
      ],
      "metadata": {
        "colab": {
          "base_uri": "https://localhost:8080/"
        },
        "id": "DT67LBZZRgeO",
        "outputId": "76833d5f-f1a7-48d7-9213-017e095174c3"
      },
      "execution_count": 8,
      "outputs": [
        {
          "output_type": "stream",
          "name": "stdout",
          "text": [
            "Cek Duplikasi Data:\n",
            "Jumlah duplikasi data sebelum dihapus: 2\n"
          ]
        }
      ]
    },
    {
      "cell_type": "markdown",
      "source": [
        "#### Distribusi Data"
      ],
      "metadata": {
        "id": "vZba7EomBX-5"
      }
    },
    {
      "cell_type": "code",
      "source": [
        "# Analisis Korelasi\n",
        "plt.figure(figsize=(10, 6))\n",
        "correlation_matrix = numeric_data.corr().round(2)\n",
        "\n",
        "# Heatmap korelasi\n",
        "sns.heatmap(correlation_matrix, annot=True, cmap=\"coolwarm\", fmt=\".2f\", linewidths=0.5)\n",
        "plt.title(\"Matriks Korelasi Variabel Numerik\")\n",
        "plt.show()"
      ],
      "metadata": {
        "colab": {
          "base_uri": "https://localhost:8080/",
          "height": 459
        },
        "id": "JAdZL873SRoM",
        "outputId": "8cb7d98e-7a37-448c-eb77-83f739a07dee"
      },
      "execution_count": 10,
      "outputs": [
        {
          "output_type": "display_data",
          "data": {
            "text/plain": [
              "<Figure size 1000x600 with 2 Axes>"
            ],
            "image/png": "[encoded data removed]"
          },
          "metadata": {}
        }
      ]
    },
    {
      "cell_type": "markdown",
      "source": [
        "Hasil Correlation Map diatas beberikan beberapa informasi yaitu\n",
        "\n",
        "\n",
        "*   Fitur yang sangat berkorelasi dengan label target adalah cp (nyeri dada), exang (nyeri dada saat berolahraga), oldpeak, thal (hasil tes thalassemia) dan ca (jumlah pembuluh darah)\n",
        "*   Pada hasil tersebut dapat dilihat bahwa jenis kelamin laki laki (sex=1) memiliki resiko penyakit jantung yang lebih tinggi dibandingkan perempuan\n",
        "\n"
      ],
      "metadata": {
        "id": "E1dLX2RHdpid"
      }
    },
    {
      "cell_type": "markdown",
      "source": [
        "## Data Preparation"
      ],
      "metadata": {
        "id": "t-iZX3ZI-gxw"
      }
    },
    {
      "cell_type": "markdown",
      "source": [
        "#### Pembersihan Fitur\n",
        "Berikutnya saya akan menghapus kolom source yang berisi nama RS data penyakit ini diambil, alasannya karena fokus saya disini hanya untuk kebutuhan analisis diagnosis"
      ],
      "metadata": {
        "id": "shjmzbvPYa2j"
      }
    },
    {
      "cell_type": "code",
      "source": [
        "df = df.drop('source', axis=1)"
      ],
      "metadata": {
        "id": "9iLgp-ccOQHx"
      },
      "execution_count": 11,
      "outputs": []
    },
    {
      "cell_type": "markdown",
      "source": [
        "#### Handling Duplicate Data"
      ],
      "metadata": {
        "id": "E6EpyQgoYLca"
      }
    },
    {
      "cell_type": "markdown",
      "source": [
        "Sebagaimana setelah melakukan pengecekan data dapat kita lihat bahwa ada 2 data yang mengalami duplikasi sehingga diperlukan adanya penghapusan data duplikat menggunakan fungsi `.drop_duplicates()`"
      ],
      "metadata": {
        "id": "MwqyIcpLYOBR"
      }
    },
    {
      "cell_type": "code",
      "source": [
        "# Hapus duplikasi data\n",
        "df = df.drop_duplicates()\n",
        "\n",
        "print(f\"Jumlah duplikasi data setelah dihapus: {df.duplicated().sum()}\")\n",
        "\n",
        "# Cek ukuran data setelah menghapus duplikasi\n",
        "print(f\"Jumlah baris data setelah menghapus duplikasi: {len(df)}\")"
      ],
      "metadata": {
        "colab": {
          "base_uri": "https://localhost:8080/"
        },
        "id": "MvtSf0_wV_9i",
        "outputId": "aef84b0a-f18c-4d34-fc73-d9f319d26e86"
      },
      "execution_count": 12,
      "outputs": [
        {
          "output_type": "stream",
          "name": "stdout",
          "text": [
            "Jumlah duplikasi data setelah dihapus: 0\n",
            "Jumlah baris data setelah menghapus duplikasi: 918\n"
          ]
        }
      ]
    },
    {
      "cell_type": "markdown",
      "source": [
        "#### Bagi pengelompokan jenis data"
      ],
      "metadata": {
        "id": "MfR42a9uBIRQ"
      }
    },
    {
      "cell_type": "markdown",
      "source": [
        "pada tahapan ini saya mengecek tipe data terhadap kolom yang akan di gunakan untuk permodelan, disini saya menggunakan `df.select_dtypes(include=['number']).columns.tolist()` dan `df.select_dtypes(include=['object']).columns.tolist()`. dapat dilihat pada output dibawah kode tersebut apa saja kolom dengan tipe data numerik. dan untuk kolom kategorikal kosong karena pada dataset memang hanya membutuhkan kolom numerikal untuk proses"
      ],
      "metadata": {
        "id": "2FqirH2JUcmy"
      }
    },
    {
      "cell_type": "code",
      "source": [
        "# Mengecek tipe data setiap kolom dan mengelompokkannya\n",
        "numerical_cols = df.select_dtypes(include=['number']).columns.tolist()\n",
        "categorical_cols = df.select_dtypes(include=['object']).columns.tolist()\n",
        "\n",
        "print(\"Kolom Numerikal:\")\n",
        "print(numerical_cols)\n",
        "print(\"\\nKolom Kategorikal:\")\n",
        "categorical_cols"
      ],
      "metadata": {
        "colab": {
          "base_uri": "https://localhost:8080/"
        },
        "id": "McZnhXue-f6z",
        "outputId": "37485f0c-c0bb-47d4-e039-5f21a6f5ca77"
      },
      "execution_count": 13,
      "outputs": [
        {
          "output_type": "stream",
          "name": "stdout",
          "text": [
            "Kolom Numerikal:\n",
            "['age', 'sex', 'cp', 'trestbps', 'chol', 'fbs', 'restecg', 'thalach', 'exang', 'oldpeak', 'slope', 'ca', 'thal', 'target']\n",
            "\n",
            "Kolom Kategorikal:\n"
          ]
        },
        {
          "output_type": "execute_result",
          "data": {
            "text/plain": [
              "[]"
            ]
          },
          "metadata": {},
          "execution_count": 13
        }
      ]
    },
    {
      "cell_type": "markdown",
      "source": [
        "#### Data Splitting"
      ],
      "metadata": {
        "id": "AD-PobFlZisK"
      }
    },
    {
      "cell_type": "markdown",
      "source": [
        "Tahapan ini merupakan tahapan sebelum memasuki permodelan. Langkah yang saya lakukan diantaranya :\n",
        "* Karena data yang saya gunakan disini sudah berformat numerik dan sudah terdapat label pada data maka saya tidak melakukan Label Encoding.\n",
        "* Disini saya membagi dataset menjadi data latih (train) sebesar 80% dan data uji (testing) sebesar 20%"
      ],
      "metadata": {
        "id": "gP9HZgx2iNFA"
      }
    },
    {
      "cell_type": "code",
      "source": [
        "# Bagi dataset menjadi training (80%) dan testing (20%)\n",
        "X = df.drop('target', axis=1)\n",
        "y = df['target']\n",
        "\n",
        "X_train, X_test, y_train, y_test = train_test_split(X, y, test_size=0.2, random_state=42, stratify=y)\n",
        "\n",
        "# Cek ukuran data\n",
        "print(f\"Training set: {X_train.shape}, Testing set: {X_test.shape}\")"
      ],
      "metadata": {
        "colab": {
          "base_uri": "https://localhost:8080/"
        },
        "id": "EjAEgDAnMOOM",
        "outputId": "ddb012a1-9749-4770-a5da-cffb020e74ba"
      },
      "execution_count": 14,
      "outputs": [
        {
          "output_type": "stream",
          "name": "stdout",
          "text": [
            "Training set: (734, 13), Testing set: (184, 13)\n"
          ]
        }
      ]
    },
    {
      "cell_type": "markdown",
      "source": [
        "#### Normalisasi Data"
      ],
      "metadata": {
        "id": "qiTQnoDIZmTf"
      }
    },
    {
      "cell_type": "markdown",
      "source": [
        "Langkah kedua pada tahapan ini saya melakukan normalisasi menggunakan `StandardScaler()` dengan tujuan meningkatkan hasil prediksi lebih akurat dan stabil\n",
        "\n"
      ],
      "metadata": {
        "id": "UQZxfH_4ixBN"
      }
    },
    {
      "cell_type": "code",
      "source": [
        "# normalisasi\n",
        "from sklearn.preprocessing import StandardScaler\n",
        "scaler = StandardScaler()\n",
        "X_train = scaler.fit_transform(X_train)\n",
        "X_test = scaler.transform(X_test)"
      ],
      "metadata": {
        "id": "vs3gExMhfXOa"
      },
      "execution_count": 15,
      "outputs": []
    },
    {
      "cell_type": "markdown",
      "source": [
        "Langkah berikutnya saya membuat kolom label kategorikal untuk identifikasi prediksi penyakit jantung"
      ],
      "metadata": {
        "id": "CscBeYWDjIm_"
      }
    },
    {
      "cell_type": "code",
      "source": [
        "# Mapping nilai target ke label\n",
        "df['target_label'] = df['target'].map({1: 'Mengidap Penyakit Jantung', 0: 'Tidak Mengidap Penyakit Jantung'})\n",
        "\n",
        "# Menampilkan jumlah data berdasarkan label target\n",
        "df['target_label'].value_counts()"
      ],
      "metadata": {
        "colab": {
          "base_uri": "https://localhost:8080/",
          "height": 178
        },
        "id": "PsxztXnc_TXC",
        "outputId": "16ef6252-28f4-4ce7-84bb-4df39730bc99"
      },
      "execution_count": 16,
      "outputs": [
        {
          "output_type": "execute_result",
          "data": {
            "text/plain": [
              "target_label\n",
              "Mengidap Penyakit Jantung          508\n",
              "Tidak Mengidap Penyakit Jantung    410\n",
              "Name: count, dtype: int64"
            ],
            "text/html": [
              "<div>\n",
              "<style scoped>\n",
              "    .dataframe tbody tr th:only-of-type {\n",
              "        vertical-align: middle;\n",
              "    }\n",
              "\n",
              "    .dataframe tbody tr th {\n",
              "        vertical-align: top;\n",
              "    }\n",
              "\n",
              "    .dataframe thead th {\n",
              "        text-align: right;\n",
              "    }\n",
              "</style>\n",
              "<table border=\"1\" class=\"dataframe\">\n",
              "  <thead>\n",
              "    <tr style=\"text-align: right;\">\n",
              "      <th></th>\n",
              "      <th>count</th>\n",
              "    </tr>\n",
              "    <tr>\n",
              "      <th>target_label</th>\n",
              "      <th></th>\n",
              "    </tr>\n",
              "  </thead>\n",
              "  <tbody>\n",
              "    <tr>\n",
              "      <th>Mengidap Penyakit Jantung</th>\n",
              "      <td>508</td>\n",
              "    </tr>\n",
              "    <tr>\n",
              "      <th>Tidak Mengidap Penyakit Jantung</th>\n",
              "      <td>410</td>\n",
              "    </tr>\n",
              "  </tbody>\n",
              "</table>\n",
              "</div><br><label><b>dtype:</b> int64</label>"
            ]
          },
          "metadata": {},
          "execution_count": 16
        }
      ]
    },
    {
      "cell_type": "code",
      "source": [
        "import matplotlib.pyplot as plt\n",
        "plt.figure(figsize=(6, 4))\n",
        "sns.countplot(x='target_label', data=df, palette='viridis')\n",
        "plt.title('Distribusi Jumlah Data berdasarkan Status Penyakit Jantung')\n",
        "plt.xlabel('Status Penyakit Jantung')\n",
        "plt.ylabel('Jumlah Data')\n",
        "plt.show()"
      ],
      "metadata": {
        "colab": {
          "base_uri": "https://localhost:8080/",
          "height": 517
        },
        "id": "oM2M7Spo__nN",
        "outputId": "cfa5aa13-a7a9-4b88-9c0a-b86132299ae6"
      },
      "execution_count": 17,
      "outputs": [
        {
          "output_type": "stream",
          "name": "stderr",
          "text": [
            "<ipython-input-17-549dd4452f3c>:3: FutureWarning: \n",
            "\n",
            "Passing `palette` without assigning `hue` is deprecated and will be removed in v0.14.0. Assign the `x` variable to `hue` and set `legend=False` for the same effect.\n",
            "\n",
            "  sns.countplot(x='target_label', data=df, palette='viridis')\n"
          ]
        },
        {
          "output_type": "display_data",
          "data": {
            "text/plain": [
              "<Figure size 600x400 with 1 Axes>"
            ],
            "image/png": "[encoded data removed]"
          },
          "metadata": {}
        }
      ]
    },
    {
      "cell_type": "markdown",
      "source": [
        "## Model Development"
      ],
      "metadata": {
        "id": "ZlrTBZeT-4q4"
      }
    },
    {
      "cell_type": "markdown",
      "source": [
        "Pada tahap ini, tiga algoritma machine learning diimplementasikan untuk menyelesaikan masalah klasifikasi, yaitu Random Forest, Logistic Regression, dan K-Nearest Neighbors (KNN). Setiap model dievaluasi menggunakan metrik akurasi dan F1-Score untuk menentukan performa terbaik."
      ],
      "metadata": {
        "id": "CpgI7jRVkk9q"
      }
    },
    {
      "cell_type": "markdown",
      "source": [
        "### 1. Random Forest"
      ],
      "metadata": {
        "id": "Lol43KgUes-l"
      }
    },
    {
      "cell_type": "markdown",
      "source": [
        "#### Cara Kerja\n",
        "\n",
        "Random Forest adalah algoritma ensemble learning yang menggabungkan multiple decision trees untuk membuat prediksi yang lebih akurat dan stabil. Algoritma ini bekerja dengan cara:\n",
        "- Bootstrap Sampling: Membuat beberapa subset data training secara random dengan replacement\n",
        "- Feature Randomness: Pada setiap node split, hanya subset random dari features yang dipertimbangkan  \n",
        "- Tree Construction: Membangun decision tree untuk setiap subset data\n",
        "- Voting Mechanism: Untuk klasifikasi, menggunakan majority voting dari semua trees\n",
        "\n",
        "#### Parameter:\n",
        "\n",
        "- random_state=42\n",
        "- n_estimators=100 (default)\n",
        "- max_depth=None (default)\n",
        "- min_samples_split=2 (default)\n",
        "- min_samples_leaf=1 (default)\n",
        "\n",
        "#### Tahapan Penyusunan Model:\n",
        "\n",
        "1. Dataset dibagi menjadi data latih dan uji (X_train, X_test, y_train, y_test).\n",
        "2. Model RandomForestClassifier diinisialisasi dengan parameter random_state=42.\n",
        "3. Model dilatih pada X_train dan y_train menggunakan metode fit().\n",
        "4. Prediksi dilakukan pada X_test menggunakan metode predict().\n",
        "5. Evaluasi dilakukan dengan membandingkan y_pred_dt dengan y_test.\n",
        "\n",
        "#### Kelebihan:\n",
        "\n",
        "- Mengurangi overfitting dibanding pohon keputusan tunggal\n",
        "- Mampu menangani data non-linear\n",
        "- Menyediakan informasi feature importance\n",
        "- Robust terhadap outliers dan noise\n",
        "\n",
        "#### Kekurangan:\n",
        "\n",
        "- Lebih lambat dibanding model sederhana\n",
        "- Sulit untuk interpretasi secara keseluruhan\n",
        "- Membutuhkan lebih banyak memori\n",
        "\n",
        "#### Implementasi:\n",
        "\n",
        "- Model dilatih langsung pada data asli tanpa normalisasi karena Random Forest tidak sensitif terhadap skala fitur\n",
        "- Parameter random_state=42 digunakan untuk memastikan hasil yang konsisten dan dapat direproduksi\n",
        "- Model RandomForestClassifier diinisialisasi dan dilatih menggunakan data latih (X_train, y_train)\n",
        "- Model digunakan untuk memprediksi label pada data uji (X_test)\n"
      ],
      "metadata": {
        "id": "duzi5P9Tmcqo"
      }
    },
    {
      "cell_type": "code",
      "source": [
        "from sklearn.ensemble import RandomForestClassifier\n",
        "# Inisialisasi dan latih model Random Forest\n",
        "rf_model = RandomForestClassifier(random_state=42)\n",
        "rf_model.fit(X_train, y_train)\n",
        "\n",
        "# Prediksi\n",
        "y_pred_dt = rf_model.predict(X_test)"
      ],
      "metadata": {
        "id": "YnNqDHYqVZae"
      },
      "execution_count": 18,
      "outputs": []
    },
    {
      "cell_type": "markdown",
      "source": [
        "### 2. Logistic Regression"
      ],
      "metadata": {
        "id": "szCw12kygeD4"
      }
    },
    {
      "cell_type": "markdown",
      "source": [
        "#### Cara Kerja\n",
        "\n",
        "Logistic Regression adalah algoritma linear classifier yang menggunakan fungsi logistic (sigmoid) untuk memetakan nilai real ke probabilitas antara 0 dan 1. Cara kerja algoritma:\n",
        "- Linear Combination: Menghitung kombinasi linear dari input features: z = w₀ + w₁x₁ + w₂x₂ + ... + wₙxₙ\n",
        "- Sigmoid Function: Mengaplikasikan fungsi sigmoid: σ(z) = 1/(1 + e^(-z))\n",
        "- Probability Mapping: Mengkonversi output ke probabilitas kelas\n",
        "- Decision Boundary: Menggunakan threshold (biasanya 0.5) untuk klasifikasi final\n",
        "\n",
        "#### Parameter:\n",
        "\n",
        "- solver='lbfgs' (default)\n",
        "- max_iter=100 (default)\n",
        "- C=1.0 (default)\n",
        "- penalty='l2' (default)\n",
        "- random_state=42\n",
        "\n",
        "#### Tahapan Penyusunan Model:\n",
        "\n",
        "1. Dataset dibagi menjadi data latih dan uji (X_train, X_test, y_train, y_test).\n",
        "2. Model LogisticRegression diinisialisasi dengan parameter random_state=42.\n",
        "3. Model dilatih pada X_train dan y_train menggunakan metode fit().\n",
        "4. Prediksi dilakukan pada X_test menggunakan metode predict().\n",
        "5. Evaluasi dilakukan dengan membandingkan hasil prediksi dengan y_test.\n",
        "\n",
        "#### Kelebihan:\n",
        "\n",
        "- Sederhana dan cepat dalam training dan prediksi\n",
        "- Memberikan probabilitas output yang dapat diinterpretasi\n",
        "- Tidak memerlukan tuning parameter yang kompleks\n",
        "- Efisien untuk dataset besar\n",
        "- Memberikan koefisien yang dapat diinterpretasi\n",
        "\n",
        "#### Kekurangan:\n",
        "\n",
        "- Hanya cocok untuk masalah yang linearly separable\n",
        "- Sensitif terhadap outliers\n",
        "- Memerlukan feature scaling untuk performa optimal\n",
        "- Tidak dapat menangkap hubungan non-linear tanpa feature engineering\n",
        "\n",
        "#### Implementasi:\n",
        "\n",
        "- Model menggunakan solver 'lbfgs' yang cocok untuk dataset kecil hingga menengah.\n",
        "- Parameter C=1.0 digunakan untuk mengontrol kekuatan regularisasi, di mana nilai yang lebih kecil berarti regularisasi yang lebih kuat.\n",
        "- Parameter random_state=42 digunakan untuk memastikan hasil yang konsisten dan dapat direproduksi.\n",
        "- Model LogisticRegression diinisialisasi dan dilatih menggunakan data latih (X_train, y_train).\n",
        "- Model digunakan untuk memprediksi label pada data uji (X_test).\n",
        "- Menggunakan random_state=42 untuk memastikan reproducibility hasil"
      ],
      "metadata": {
        "id": "zQ_LFxbOoj29"
      }
    },
    {
      "cell_type": "code",
      "source": [
        "from sklearn.linear_model import LogisticRegression\n",
        "# Inisialisasi dan latih model Logistic Regression\n",
        "lr_model = LogisticRegression(random_state=42)\n",
        "lr_model.fit(X_train, y_train)\n",
        "\n",
        "# Prediksi\n",
        "y_pred_lr = lr_model.predict(X_test)"
      ],
      "metadata": {
        "id": "-VYl-V7GezeW"
      },
      "execution_count": 19,
      "outputs": []
    },
    {
      "cell_type": "markdown",
      "source": [
        "### 3. K-Nearest Neighbors"
      ],
      "metadata": {
        "id": "ZY_Pld92jIgM"
      }
    },
    {
      "cell_type": "markdown",
      "source": [
        "#### Cara Kerja\n",
        "\n",
        "KNN adalah algoritma lazy learning yang melakukan klasifikasi berdasarkan kedekatan dengan data training. Proses kerja algoritma:\n",
        "- Distance Calculation: Menghitung jarak antara data test dengan semua data training\n",
        "- Neighbor Selection: Memilih k tetangga terdekat berdasarkan jarak yang dihitung\n",
        "- Majority Voting: Menggunakan voting mayoritas dari k tetangga untuk menentukan kelas\n",
        "- Tie Breaking: Menangani kasus seri dengan aturan tertentu\n",
        "\n",
        "#### Parameter:\n",
        "- n_neighbors=5 (default)\n",
        "- weights='uniform' (default)\n",
        "- algorithm='auto' (default)\n",
        "- metric='minkowski' (default)\n",
        "- p=2 (default)\n",
        "\n",
        "#### Tahapan Penyusunan Model:\n",
        "\n",
        "1. Data fitur (X) dinormalisasi menggunakan StandardScaler karena KNN sensitif terhadap skala data.\n",
        "2. Dataset dibagi menjadi data latih dan uji (X_train, X_test, y_train, y_test).\n",
        "3. Model KNeighborsClassifier diinisialisasi dengan parameter default.\n",
        "4. Model dilatih pada X_train_scaled dan y_train.\n",
        "5. Prediksi dilakukan pada X_test_scaled dan evaluasi dengan y_test.\n",
        "\n",
        "#### Kelebihan:\n",
        "\n",
        "- Sederhana dan mudah diimplementasikan\n",
        "- Tidak memerlukan asumsi tentang distribusi data\n",
        "- Baik untuk menangkap hubungan lokal antar data\n",
        "- Efektif untuk dataset dengan pola yang kompleks\n",
        "\n",
        "#### Kekurangan:\n",
        "\n",
        "- Sensitif terhadap skala data (diperlukan normalisasi)\n",
        "- Performa menurun jika jumlah data besar atau berdimensi tinggi\n",
        "- Tidak memberikan interpretasi fitur\n",
        "- Komputasi prediksi lambat untuk dataset besar\n",
        "\n",
        "#### Implementasi:\n",
        "\n",
        "- Model KNeighborsClassifier digunakan dengan parameter default, yaitu n_neighbors=5 dan metrik jarak Euclidean.\n",
        "- Model dilatih menggunakan data latih X_train dan y_train.\n",
        "- Prediksi dilakukan pada data uji X_test dan hasilnya disimpan dalam y_pred_knn.\n"
      ],
      "metadata": {
        "id": "PeWauiVrpPeD"
      }
    },
    {
      "cell_type": "code",
      "source": [
        "from sklearn.neighbors import KNeighborsClassifier\n",
        "# Inisialisasi dan latih model KNN\n",
        "knn_model = KNeighborsClassifier()\n",
        "knn_model.fit(X_train, y_train)\n",
        "\n",
        "# Prediksi\n",
        "y_pred_knn = knn_model.predict(X_test)"
      ],
      "metadata": {
        "id": "RvwzU8B3jKwF"
      },
      "execution_count": 20,
      "outputs": []
    },
    {
      "cell_type": "markdown",
      "source": [
        "## Evaluation"
      ],
      "metadata": {
        "id": "iz-9C-Gp261H"
      }
    },
    {
      "cell_type": "markdown",
      "source": [
        "### Evaluasi Hasil\n",
        "\n",
        "Evaluasi model yang dilakukan untuk prediksi data ini menggunakan metrik Akurasi dan F1-Score.\n",
        "\n",
        "Berdasarkan hasil analisis yang didapatkan dari ketiga model tersebut masing masing model memiliki akurasi serta F1 score yang tinggi dan sangat baik dalam memprediksi dataset perbedaan dan penjelasan untuk masing masing permodelan, dari semua proses yang didapatkan terdapat beberapa kesimpulan diantaranya :     \n",
        "\n"
      ],
      "metadata": {
        "id": "4cFOwFJSr0Q1"
      }
    },
    {
      "cell_type": "markdown",
      "source": [
        "Random Forest"
      ],
      "metadata": {
        "id": "qPku2wrrBjMG"
      }
    },
    {
      "cell_type": "markdown",
      "source": [
        "* Memiliki akurasi sebesar 84,23 % dan weighted F1-score sebesar 0.8414, menunjukkan performa yang stabil dan baik.\n",
        "* Dapat memprediksi dengan baik pada kelas mayoritas (pasien sakit), dengan recall tinggi sebesar 0.89 untuk kelas 1.\n"
      ],
      "metadata": {
        "id": "DMYzu1CeHPV7"
      }
    },
    {
      "cell_type": "code",
      "source": [
        "# Evaluasi Model Random Forest\n",
        "rf_y_pred = rf_model.predict(X_test)\n",
        "rf_accuracy = accuracy_score(y_test, rf_y_pred)\n",
        "rf_f1 = f1_score(y_test, rf_y_pred, average='weighted')\n",
        "rf_report = classification_report(y_test, rf_y_pred, zero_division=1)\n",
        "rf_conf_matrix = confusion_matrix(y_test, rf_y_pred)\n",
        "\n",
        "print(\"\\n=== Random Forest ===\")\n",
        "print(f'Accuracy: {rf_accuracy}')\n",
        "print(f'Weighted F1-Score: {rf_f1}')\n",
        "print('Classification Report:\\n', rf_report)"
      ],
      "metadata": {
        "colab": {
          "base_uri": "https://localhost:8080/"
        },
        "id": "d2OOI2EJVbmY",
        "outputId": "15a20369-16e3-424d-bd1c-c630a7cd5e19"
      },
      "execution_count": 21,
      "outputs": [
        {
          "output_type": "stream",
          "name": "stdout",
          "text": [
            "\n",
            "=== Random Forest ===\n",
            "Accuracy: 0.842391304347826\n",
            "Weighted F1-Score: 0.8414920969496837\n",
            "Classification Report:\n",
            "               precision    recall  f1-score   support\n",
            "\n",
            "           0       0.85      0.78      0.82        82\n",
            "           1       0.83      0.89      0.86       102\n",
            "\n",
            "    accuracy                           0.84       184\n",
            "   macro avg       0.84      0.84      0.84       184\n",
            "weighted avg       0.84      0.84      0.84       184\n",
            "\n"
          ]
        }
      ]
    },
    {
      "cell_type": "markdown",
      "source": [
        "Logistic Regression"
      ],
      "metadata": {
        "id": "UJrRyaWaBlPe"
      }
    },
    {
      "cell_type": "markdown",
      "source": [
        "* Mencapai akurasi sebesar 82.06% dan weighted F1-score sebesar 0.8199\n",
        "* Memiliki recall tertinggi (0.86) untuk kelas 1 (pasien sakit), menunjukkan kemampuan yang sangat baik dalam mendeteksi pasien sakit.\n",
        "* Model ini tergolong sederhana dan interpretable, namun tetap memberikan hasil prediksi yang sangat baik."
      ],
      "metadata": {
        "id": "vCMnYYBCHly5"
      }
    },
    {
      "cell_type": "code",
      "source": [
        "# Evaluasi Model Logistic Regression\n",
        "lr_y_pred = lr_model.predict(X_test)\n",
        "lr_accuracy = accuracy_score(y_test, lr_y_pred)\n",
        "lr_f1 = f1_score(y_test, lr_y_pred, average='weighted')\n",
        "lr_report = classification_report(y_test, lr_y_pred, zero_division=1)\n",
        "lr_conf_matrix = confusion_matrix(y_test, lr_y_pred)\n",
        "\n",
        "print(\"\\n=== Logistic Regression ===\")\n",
        "print(f'Accuracy: {lr_accuracy}')\n",
        "print(f'Weighted F1-Score: {lr_f1}')\n",
        "print('Classification Report:\\n', lr_report)"
      ],
      "metadata": {
        "colab": {
          "base_uri": "https://localhost:8080/"
        },
        "id": "cgyop1I-e4Vf",
        "outputId": "f4a93102-f4f9-401d-8f3a-0606d5e236cb"
      },
      "execution_count": 22,
      "outputs": [
        {
          "output_type": "stream",
          "name": "stdout",
          "text": [
            "\n",
            "=== Logistic Regression ===\n",
            "Accuracy: 0.8206521739130435\n",
            "Weighted F1-Score: 0.8199775484650921\n",
            "Classification Report:\n",
            "               precision    recall  f1-score   support\n",
            "\n",
            "           0       0.82      0.77      0.79        82\n",
            "           1       0.82      0.86      0.84       102\n",
            "\n",
            "    accuracy                           0.82       184\n",
            "   macro avg       0.82      0.82      0.82       184\n",
            "weighted avg       0.82      0.82      0.82       184\n",
            "\n"
          ]
        }
      ]
    },
    {
      "cell_type": "markdown",
      "source": [
        "K-Nearest Neighbours"
      ],
      "metadata": {
        "id": "lMG_vwMPBpnh"
      }
    },
    {
      "cell_type": "markdown",
      "source": [
        "* Memberikan akurasi sebesar 84,2% dan weighted F1-score sebesar 0.8414, yang setara dnegan hasil random forest.\n",
        "* Recall yang tinggi (0.89) untuk kelas 1 membuatnya cocok untuk kasus di mana deteksi positif sangat penting."
      ],
      "metadata": {
        "id": "uu_KpvGFHL2c"
      }
    },
    {
      "cell_type": "code",
      "source": [
        "# Evaluasi Model KNN\n",
        "knn_y_pred = knn_model.predict(X_test)\n",
        "knn_accuracy = accuracy_score(y_test, knn_y_pred)\n",
        "knn_f1 = f1_score(y_test, knn_y_pred, average='weighted')\n",
        "knn_report = classification_report(y_test, knn_y_pred, zero_division=1)\n",
        "knn_conf_matrix = confusion_matrix(y_test, knn_y_pred)\n",
        "\n",
        "print(\"=== KNN ===\")\n",
        "print(f'Accuracy: {knn_accuracy}')\n",
        "print(f'Weighted F1-Score: {knn_f1}')\n",
        "print('Classification Report:\\n', knn_report)"
      ],
      "metadata": {
        "colab": {
          "base_uri": "https://localhost:8080/"
        },
        "id": "-N1gH6uxjPSD",
        "outputId": "9fcfe7f8-67b2-4e9b-9849-3e5fb047947e"
      },
      "execution_count": 23,
      "outputs": [
        {
          "output_type": "stream",
          "name": "stdout",
          "text": [
            "=== KNN ===\n",
            "Accuracy: 0.842391304347826\n",
            "Weighted F1-Score: 0.8414920969496837\n",
            "Classification Report:\n",
            "               precision    recall  f1-score   support\n",
            "\n",
            "           0       0.85      0.78      0.82        82\n",
            "           1       0.83      0.89      0.86       102\n",
            "\n",
            "    accuracy                           0.84       184\n",
            "   macro avg       0.84      0.84      0.84       184\n",
            "weighted avg       0.84      0.84      0.84       184\n",
            "\n"
          ]
        }
      ]
    },
    {
      "cell_type": "markdown",
      "source": [
        "### Evaluasi Bisnis\n",
        "\n",
        "#### Problem Solving\n",
        "1. **Bagaimana cara mengembangkan model machine learning yang dapat memprediksi risiko penyakit jantung?**  \n",
        "   Problem berhasil dijawab melalui pengembangan dan evaluasi tiga model klasifikasi:\n",
        "   - **Random Forest** mencapai akurasi 84% dan F1-score 0.842\n",
        "   - **Logistic Regression** akurasi 83% dan F1-score 0.820\n",
        "   - **K-Nearest Neighbors (KNN)** akurasi 84% dan F1-score 0.842\n",
        "\n",
        "   Ketiganya menunjukkan performa yang baik, dan proses mencakup:\n",
        "   - Praproses data secara menyeluruh\n",
        "   - Pemilihan algoritma yang relevan\n",
        "   - Evaluasi metrik klasifikasi (precision, recall, F1-score)\n",
        "\n",
        "\n",
        "2. **Bagaimana Hasil Prediksi yang dilakukan? Permodelan apa yang paling efektif untuk digunakan?**  \n",
        "   Telah dijawab melalui:\n",
        "   - Evaluasi hasil menunjukkan bahwa random forest dan knn memiliki tingkat akurasi dan skor f1 paling tinggi dan stabil\n",
        "\n",
        "\n",
        "### Capaian Goals\n",
        "\n",
        "1. **Model prediksi risiko penyakit jantung**  \n",
        "   Tercapai. Model Random Forest dan KNN menjadi pilihan terbaik dari sisi akurasi dan F1-score. Logistic Regression menjadi alternatif baik karena recall yang tinggi dan interpretabilitas.\n",
        "\n",
        "2. **Identifikasi faktor risiko penyakit jantung**  \n",
        "   Tercapai. Insight dari EDA dan analisis fitur menunjukkan keterkaitan kuat antara faktor medis (seperti chol, cp, thalach, dan age) dengan risiko penyakit jantung.\n",
        "\n",
        "### Dampak dari Solusi yang Dirancang\n",
        "\n",
        "- **Evaluasi multi-model** memberikan dasar kuat untuk pemilihan model terbaik\n",
        "- **Random Forest** dan **KNN** unggul dari sisi akurasi dan generalisasi\n",
        "- **Random Forest** dan **KNN** menunjukkan recall tinggi (0.89), ideal untuk aplikasi medis di mana deteksi positif lebih diutamakan\n",
        "- **Logistic Regression** juga memiliki angka recall yang cukup ideal di angka 0,86"
      ],
      "metadata": {
        "id": "mmAvg8stxOba"
      }
    },
    {
      "cell_type": "markdown",
      "source": [
        "## Kesimpulan\n",
        "\n",
        "Model yang dikembangkan telah berhasil menjawab seluruh problem statement dan mencapai goals yang ditetapkan. Dari keseluruhan model, **Random Forest** dan **KNN** merupakan model terbaik untuk diterapkan pada dataset ini karena memiliki akurasi dan F1-Score tertinggi, yaitu Accuracy sebesar **0.8423** dan F1-Score sebesar **0.8414**.\n",
        "\n",
        "Secara keseluruhan, evaluasi menunjukkan bahwa solusi yang diimplementasikan berdampak positif terhadap kualitas prediksi dan akurasi sistem deteksi dini penyakit jantung, serta layak digunakan sebagai alat bantu dalam proses **screening penyakit jantung** di bidang medis.\n"
      ],
      "metadata": {
        "id": "Divek_0JIKXB"
      }
    }
  ]
}